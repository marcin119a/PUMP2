{
  "nbformat": 4,
  "nbformat_minor": 0,
  "metadata": {
    "colab": {
      "provenance": [],
      "authorship_tag": "ABX9TyMoS/PTxsL3tQC96pi6pbvf",
      "include_colab_link": true
    },
    "kernelspec": {
      "name": "python3",
      "display_name": "Python 3"
    },
    "language_info": {
      "name": "python"
    }
  },
  "cells": [
    {
      "cell_type": "markdown",
      "metadata": {
        "id": "view-in-github",
        "colab_type": "text"
      },
      "source": [
        "<a href=\"https://colab.research.google.com/github/marcin119a/PUMP2/blob/main/UO_Podstawy_uczenia_maszynowego_Zajecia_0_1.ipynb\" target=\"_parent\"><img src=\"https://colab.research.google.com/assets/colab-badge.svg\" alt=\"Open In Colab\"/></a>"
      ]
    },
    {
      "cell_type": "markdown",
      "source": [
        "### Colab Google"
      ],
      "metadata": {
        "id": "n3cR6YXJPUcv"
      }
    },
    {
      "cell_type": "markdown",
      "source": [
        "Colab (skrót od Collaboratory) Google to bezpłatne środowisko notatnika interaktywnego, które umożliwia pisanie i wykonywanie kodu Pythona w przeglądarce internetowej. Colab został stworzony przez zespół Google Research i jest oparty na popularnym narzędziu o otwartym kodzie źródłowym Jupyter Notebook.\n",
        "\n",
        "Colab Google oferuje wiele funkcji, które czynią go atrakcyjnym dla programistów, naukowców danych i badaczy. Oto niektóre z głównych cech Colab:\n",
        "\n",
        "1. Środowisko GPU i TPU: Colab udostępnia dostęp do GPU (jednostek przetwarzania grafiki) i TPU (jednostek przetwarzania tensorów) na potrzeby obliczeń intensywnych. To jest szczególnie przydatne do zadań związanych z uczeniem maszynowym i głębokim uczeniem.\n",
        "\n",
        "2. Wykonywanie w chmurze: Kod w Colab jest wykonywany na serwerach Google w chmurze. Nie jest konieczne lokalne instalowanie oprogramowania ani sprzętu o dużej mocy obliczeniowej. Użytkownicy mogą korzystać z dużej mocy obliczeniowej oferowanej przez Google.\n",
        "\n",
        "3. Udostępnianie i współpraca: Można udostępniać notatniki Colab innym użytkownikom, umożliwiając współpracę w czasie rzeczywistym. Można również importować notatniki z GitHub i zapisywać je w usłudze Google Drive.\n",
        "\n",
        "4. Obsługa różnych języków i środowisk: Oprócz Pythona, Colab obsługuje wiele innych języków programowania, takich jak R, Julia i Scala. Ponadto, Colab zawiera wiele popularnych bibliotek i środowisk, takich jak TensorFlow, PyTorch, scikit-learn i wiele innych.\n",
        "\n",
        "5. Łatwa integracja z innymi usługami Google: Colab jest ściśle zintegrowany z innymi usługami Google, takimi jak Google Drive, Google Cloud Storage czy BigQuery. Umożliwia to wygodne importowanie i eksportowanie danych, korzystanie z plików w chmurze i wiele więcej.\n",
        "\n",
        "Colab Google jest używany przez programistów i naukowców danych do eksploracji danych, prototypowania algorytmów, trenowania modeli uczenia maszynowego, prowadzenia analizy danych i innych zadań obliczeniowych. Dostępność darmowej wersji Colab oraz jego zaawansowane funkcje sprawiają, że jest to popularne narzędzie w społeczności programistycznej."
      ],
      "metadata": {
        "id": "JOmrm_X_WiyY"
      }
    },
    {
      "cell_type": "markdown",
      "source": [
        "### Python"
      ],
      "metadata": {
        "id": "H9TBgv9NLPw2"
      }
    },
    {
      "cell_type": "markdown",
      "source": [
        "\n",
        "Python to interpretowany język programowania wysokiego poziomu, który został stworzony przez Guido van Rossuma i po raz pierwszy wydany w 1991 roku. Jego celem było zapewnienie czytelnej, klarownej i łatwej do zrozumienia składni, co czyni go idealnym dla początkujących programistów.\n",
        "\n",
        "Python jest ogólnego zastosowania i znajduje szerokie zastosowanie w różnych dziedzinach, takich jak programowanie webowe, analiza danych, sztuczna inteligencja, tworzenie oprogramowania naukowego i wiele innych. Jego popularność wynika z wielu czynników, takich jak czytelność kodu, bogactwo bibliotek i modułów, duża społeczność programistów oraz łatwość nauki.\n",
        "\n"
      ],
      "metadata": {
        "id": "AynU1ak-PMmU"
      }
    },
    {
      "cell_type": "markdown",
      "source": [
        "```python\n",
        "x = 10\n",
        "y = 3.14\n",
        "\n",
        "# Dodawanie\n",
        "sum = x + y\n",
        "print(\"Suma:\", sum)\n",
        "\n",
        "# Potęgowanie\n",
        "power = x ** y\n",
        "print(\"Potęga:\", power)\n",
        "```"
      ],
      "metadata": {
        "id": "bfuavXY04zjV"
      }
    },
    {
      "cell_type": "markdown",
      "source": [
        "- Instrukcje warunkowe pozwalają na wykonanie różnych bloków kodu w zależności od spełnienia warunku.\n",
        "\n",
        "**1. Instrukcja if:**\n",
        "\n",
        "```python\n",
        "if warunek:\n",
        "    # kod do wykonania, jeśli warunek jest prawdziwy\n",
        "```\n",
        "\n",
        "**2. Instrukcja if-else:**\n",
        "\n",
        "```python\n",
        "if warunek:\n",
        "    # kod do wykonania, jeśli warunek jest prawdziwy\n",
        "else:\n",
        "    # kod do wykonania, jeśli warunek jest fałszywy\n",
        "```\n",
        "\n",
        "**3. Instrukcja if-elif-else:**\n",
        "\n",
        "```python\n",
        "if warunek1:\n",
        "    # kod do wykonania, jeśli warunek1 jest prawdziwy\n",
        "elif warunek2:\n",
        "    # kod do wykonania, jeśli warunek2 jest prawdziwy\n",
        "else:\n",
        "    # kod do wykonania, jeśli żaden z warunków nie jest spełniony\n",
        "```\n",
        "\n"
      ],
      "metadata": {
        "id": "NdTRjnbu4Po3"
      }
    },
    {
      "cell_type": "markdown",
      "source": [
        "**4. Operatory porównania:**\n",
        "\n",
        "- Python oferuje różne operatory porównania, takie jak == (równa się), != (nie równa się), > (większe), < (mniejsze), >= (większe lub równe), <= (mniejsze lub równe).\n",
        "\n",
        "**Przykładowy kod:**\n",
        "\n",
        "```python\n",
        "age = 25\n",
        "\n",
        "if age >= 18:\n",
        "    print(\"Jesteś dorosły.\")\n",
        "else:\n",
        "    print(\"Jesteś niepełnoletni.\")\n",
        "```\n",
        "\n"
      ],
      "metadata": {
        "id": "QlsNMzaH4toN"
      }
    },
    {
      "cell_type": "markdown",
      "source": [
        "- Listy są dynamicznymi strukturami danych w Pythonie, które przechowują kolekcję elementów w określonej kolejności.\n",
        "\n",
        "**1. Tworzenie listy:**\n",
        "\n",
        "```python\n",
        "numbers = [1, 2, 3, 4, 5]\n",
        "fruits = ['apple', 'banana', 'orange']\n",
        "mixed_list = [1, 'apple', True]\n",
        "```\n",
        "\n",
        "\n"
      ],
      "metadata": {
        "id": "mN9QhmIm47Ax"
      }
    },
    {
      "cell_type": "markdown",
      "source": [
        "\n",
        "- Listy są indeksowane od zera, co oznacza, że pierwszy element ma indeks 0.\n",
        "\n",
        "```python\n",
        "fruits = ['apple', 'banana', 'orange']\n",
        "\n",
        "print(fruits[0])  # Pierwszy element: 'apple'\n",
        "print(fruits[1])  # Drugi element: 'banana'\n",
        "print(fruits[-1])  # Ostatni element: 'orange'\n",
        "\n",
        "print(fruits[1:3])  # Wycinek: ['banana', 'orange']\n",
        "```\n",
        "\n"
      ],
      "metadata": {
        "id": "QUMLP8Ow5DkW"
      }
    },
    {
      "cell_type": "markdown",
      "source": [
        "**3. Modyfikacja listy:**\n",
        "\n",
        "```python\n",
        "numbers = [1, 2, 3, 4, 5]\n",
        "\n",
        "numbers[2] = 10  # Zmiana wartości trzeciego elementu na 10\n",
        "\n",
        "numbers.append(6)  # Dodanie nowego elementu na koniec listy\n",
        "numbers.insert(0, 0)  # Wstawienie elementu na określoną pozycję\n",
        "numbers.remove(3)  # Usunięcie elementu o konkretnej wartości\n",
        "```\n"
      ],
      "metadata": {
        "id": "4mBn5Sam5HP2"
      }
    },
    {
      "cell_type": "markdown",
      "source": [
        "\n",
        "**4. Operacje na listach:**\n",
        "\n",
        "```python\n",
        "numbers = [1, 2, 3]\n",
        "fruits = ['apple', 'banana', 'orange']\n",
        "\n",
        "combined_list = numbers + fruits  # Konkatenacja list\n",
        "length = len(numbers)  # Długość listy\n",
        "sorted_list = sorted(numbers)  # Sortowanie listy\n",
        "\n",
        "fruits = ['apple', 'banana', 'orange']\n",
        "print(fruits[1])  # Wyświetli 'banana'\n",
        "\n",
        "fruits.append('kiwi')\n",
        "print(fruits)  # Wyświetli ['apple', 'banana', 'orange', 'kiwi']\n",
        "\n",
        "fruits.remove('apple')\n",
        "print(fruits)  # Wyświetli ['banana', 'orange', 'kiwi']\n",
        "```\n"
      ],
      "metadata": {
        "id": "XAKLIlJH5LEw"
      }
    },
    {
      "cell_type": "markdown",
      "source": [
        "### Podstawowe i zaawansowane typy danych"
      ],
      "metadata": {
        "id": "msuqEIMnJZ8U"
      }
    },
    {
      "cell_type": "markdown",
      "source": [
        "Oto opis podstawowych i zaawansowanych typów danych w języku Python:\n",
        "\n",
        "1. Liczby całkowite (int): Typ danych int reprezentuje liczby całkowite, czyli liczby bez części dziesiętnej. Przykładowe operacje na liczbach całkowitych to dodawanie, odejmowanie, mnożenie, dzielenie oraz operacje logiczne.\n",
        "\n",
        "2. Liczby zmiennoprzecinkowe (float): Typ danych float reprezentuje liczby zmiennoprzecinkowe, czyli liczby z częścią dziesiętną. Przykładowe operacje na liczbach zmiennoprzecinkowych to obliczenia matematyczne, zaokrąglanie, konwersja między typami danych itp.\n",
        "\n",
        "3. Napisy (str): Typ danych str reprezentuje ciągi znaków, takie jak tekst. Można tworzyć napisy przy użyciu pojedynczych lub podwójnych cudzysłowów. Przykładowe operacje na napisach to konkatenacja (łączenie), indeksowanie, wycinanie, wyszukiwanie, zmiana wielkości liter, formatowanie itp.\n",
        "\n",
        "4. Listy (list): Typ danych list reprezentuje uporządkowane kolekcje elementów. Elementy w liście mogą mieć różne typy danych. Listy są mutowalne, co oznacza, że można zmieniać ich zawartość. Przykładowe operacje na listach to dodawanie elementów, usuwanie elementów, indeksowanie, wycinanie, sortowanie, iterowanie itp.\n",
        "\n",
        "5. Krotki (tuple): Typ danych tuple reprezentuje uporządkowane kolekcje elementów, podobnie jak listy. Jednak krotki są niemutowalne, co oznacza, że nie można zmieniać ich zawartości po ich utworzeniu. Przykładowe operacje na krotkach to indeksowanie, wycinanie, iterowanie itp.\n",
        "\n",
        "6. Słowniki (dict): Typ danych dict reprezentuje zbiory par klucz-wartość. Klucze w słowniku muszą być unikalne, a wartości mogą być dowolnego typu danych. Przykładowe operacje na słownikach to dodawanie elementów, usuwanie elementów, dostęp do wartości poprzez klucz, iterowanie po kluczach lub wartościach, sprawdzanie obecności klucza itp.\n",
        "\n",
        "7. Zbiory (set): Typ danych set reprezentuje nieuporządkowane zbiory unikalnych elementów. Zbiory nie przechowują duplikatów. Przykładowe operacje na zbiorach to dodawanie elementów, usuwanie elementów, operacje matematyczne takie jak suma, przecięcie, różnica, sprawdzanie przynależności itp.\n",
        "\n",
        "8. Tuple (krotki) nazwane (namedtuple): Tuple nazwane to rozszerzenie krotek, które mają nazwane pola. Pozwalają one na tworzenie struktur danych o zdefiniowanych pol"
      ],
      "metadata": {
        "id": "ev0AZbLJKSRO"
      }
    },
    {
      "cell_type": "markdown",
      "source": [
        "### Deklarowanie zmiennych\n",
        "\n",
        "Zadanie: Deklarowanie zmiennych w Pythonie\n",
        "\n",
        "Opis zadania:\n",
        "Napisz program, który będzie zawierał różne deklaracje zmiennych w Pythonie. Program powinien zawierać następujące czynności:\n",
        "\n",
        "1. Deklarowanie zmiennych liczbowych:\n",
        "   - Zadeklaruj zmienną całkowitą o nazwie \"liczba_calkowita\" i przypisz jej dowolną wartość całkowitą. \n",
        "   - Zadeklaruj zmienną zmiennoprzecinkową o nazwie \"liczba_zmiennoprzecinkowa\" i przypisz jej dowolną wartość zmiennoprzecinkową.\n",
        "   - Wyświetl na ekranie wartości obu zmiennych.\n",
        "\n",
        "2. Deklarowanie zmiennych tekstowych:\n",
        "   - Zadeklaruj zmienną tekstową o nazwie \"tekst\" i przypisz jej dowolny napis.\n",
        "   - Zadeklaruj zmienną typu łańcuchowego (string) o nazwie \"imie\" i przypisz jej swoje imię.\n",
        "   - Wyświetl na ekranie wartości obu zmiennych.\n",
        "\n",
        "3. Deklarowanie zmiennych logicznych:\n",
        "   - Zadeklaruj zmienną logiczną o nazwie \"prawda\" i przypisz jej wartość True.\n",
        "   - Zadeklaruj zmienną logiczną o nazwie \"falsz\" i przypisz jej wartość False.\n",
        "   - Wyświetl na ekranie wartości obu zmiennych.\n",
        "\n",
        "4. Deklarowanie zmiennych jako puste (None):\n",
        "   - Zadeklaruj zmienną o nazwie \"pusta\" i przypisz jej wartość None.\n",
        "   - Wyświetl na ekranie wartość zmiennej.\n",
        "\n",
        "Podpowiedź: W Pythonie nie ma potrzeby jawnego określania typu zmiennej przy jej deklaracji.\n",
        "\n",
        "\n",
        "\n",
        "Wynik:\n",
        "```\n",
        "Liczba całkowita: 42\n",
        "Liczba zmiennoprzecinkowa: 3.14\n",
        "Tekst: To jest przykładowy tekst\n",
        "Imię: Jan\n",
        "Prawda: True\n",
        "Fałsz: False\n",
        "Zmienna pusta: None\n",
        "```\n",
        "\n"
      ],
      "metadata": {
        "id": "4rTUfDXgKONG"
      }
    },
    {
      "cell_type": "markdown",
      "source": [
        "Rozwiazanie w Pythonie"
      ],
      "metadata": {
        "id": "tB_8XVqfMQbh"
      }
    },
    {
      "cell_type": "code",
      "source": [
        "\n",
        "liczba_calkowita = 42\n",
        "liczba_zmiennoprzecinkowa = 3.14\n",
        "print(\"Liczba całkowita:\", liczba_calkowita)\n",
        "print(\"Liczba zmiennoprzecinkowa:\", liczba_zmiennoprzecinkowa)\n",
        "\n",
        "tekst = \"To jest przykładowy tekst\"\n",
        "imie = \"Jan\"\n",
        "print(\"Tekst:\", tekst)\n",
        "print(\"Imię:\", imie)\n",
        "\n",
        "prawda = True\n",
        "falsz = False\n",
        "print(\"Prawda:\", prawda)\n",
        "print(\"Fałsz:\", falsz)\n",
        "\n",
        "pusta = None\n",
        "print(\"Zmienna pusta:\", pusta)\n"
      ],
      "metadata": {
        "id": "VptsBJ8rMOUk"
      },
      "execution_count": null,
      "outputs": []
    },
    {
      "cell_type": "markdown",
      "source": [
        "### Zadanie: Wyświetlanie komunikatów i formatowanie napisów\n",
        "\n",
        "Opis zadania:\n",
        "Napisz program, który będzie wyświetlał różne komunikaty na ekranie i będzie wykorzystywał formatowanie napisów. Program powinien zawierać następujące czynności:\n",
        "\n",
        "1. Wyświetlanie prostego komunikatu:\n",
        "   - Wyświetl na ekranie komunikat powitalny, np. \"Witaj w programie wyświetlającym komunikaty!\".\n",
        "\n",
        "2. Wyświetlanie komunikatu z wartościami zmiennych:\n",
        "   - Zadeklaruj dwie zmienne, np. \"imie\" i \"wiek\", i przypisz im odpowiednie wartości.\n",
        "   - Wyświetl komunikat zawierający wartości tych zmiennych, np. \"Cześć, nazywam się {imie} i mam {wiek} lat.\"\n",
        "\n",
        "3. Formatowanie napisów:\n",
        "   - Zadeklaruj zmienną, np. \"kwota\", i przypisz jej wartość liczbową, np. 127.56.\n",
        "   - Wyświetl komunikat, który sformatuje wartość zmiennej \"kwota\" do dwóch miejsc po przecinku, np. \"Wartość to: 127.56 zł\".\n",
        "\n",
        "4. Wykorzystanie różnych metod formatowania:\n",
        "   - Zadeklaruj zmienną, np. \"produkt\", i przypisz jej wartość tekstu, np. \"telewizor\".\n",
        "   - Wyświetl komunikat, który będzie łączył tekst z wartościami zmiennych w różny sposób, np. \"Dziś kupiłem sobie nowy {produkt} za {kwota:.2f} zł.\".\n",
        "\n",
        "Podpowiedź: Do formatowania napisów w Pythonie można użyć operatora %, metody format() lub f-stringów.\n",
        "\n",
        "Rozwiązanie w Pythonie:\n",
        "\n",
        "Wynik:\n",
        "```\n",
        "Witaj w programie wyświetlającym komunikaty!\n",
        "Cześć, nazywam się Jan i mam 25 lat.\n",
        "Wartość to: 127.56 zł\n",
        "Dziś kupiłem sobie nowy telewizor za 127.56 zł.\n",
        "```"
      ],
      "metadata": {
        "id": "sfiiERthKWHD"
      }
    },
    {
      "cell_type": "code",
      "source": [
        "imie = \"Jan\"\n",
        "wiek = 25\n",
        "kwota = 127.56\n",
        "produkt = \"telewizor\"\n",
        "\n",
        "print(\"Witaj w programie wyświetlającym komunikaty!\")\n",
        "\n",
        "print(\"Cześć, nazywam się %s i mam %d lat.\" % (imie, wiek))\n",
        "\n",
        "print(\"Wartość to: %.2f zł\" % kwota)\n",
        "\n",
        "print(f\"Dziś kupiłem sobie nowy {produkt} za {kwota:.2f} zł.\")"
      ],
      "metadata": {
        "id": "5m6zXkUcLL0a"
      },
      "execution_count": null,
      "outputs": []
    },
    {
      "cell_type": "markdown",
      "source": [
        "### Zadanie listy"
      ],
      "metadata": {
        "id": "yhQLuM8SMwg4"
      }
    },
    {
      "cell_type": "markdown",
      "source": [
        "Zadanie: Deklaracja listy w Pythonie\n",
        "\n",
        "Opis zadania:\n",
        "Napisz program, który będzie zawierał deklarację listy w Pythonie. Program powinien zawierać następujące czynności:\n",
        "\n",
        "1. Deklaracja i inicjalizacja listy:\n",
        "   - Zadeklaruj listę o nazwie \"moja_lista\".\n",
        "   - Dodaj do listy kilka dowolnych elementów, np. liczby całkowite, napisy lub wartości logiczne.\n",
        "   - Wyświetl na ekranie zawartość listy.\n",
        "\n",
        "2. Modyfikacja elementów listy:\n",
        "   - Zmodyfikuj wartość jednego z elementów listy.\n",
        "   - Wyświetl na ekranie zaktualizowaną zawartość listy.\n",
        "\n",
        "3. Dodawanie elementów do listy:\n",
        "   - Dodaj nowy element na koniec listy.\n",
        "   - Wyświetl na ekranie zaktualizowaną zawartość listy.\n",
        "\n",
        "4. Usuwanie elementów z listy:\n",
        "   - Usuń jeden z elementów z listy.\n",
        "   - Wyświetl na ekranie zaktualizowaną zawartość listy.\n",
        "\n",
        "Rozwiązanie w Pythonie:\n",
        "```python\n",
        "moja_lista = [1, 2, \"trzy\", True]\n",
        "print(\"Zawartość listy:\", moja_lista)\n",
        "\n",
        "moja_lista[2] = \"trzeci\"\n",
        "print(\"Zaktualizowana zawartość listy:\", moja_lista)\n",
        "\n",
        "moja_lista.append(4)\n",
        "print(\"Zaktualizowana zawartość listy (po dodaniu elementu):\", moja_lista)\n",
        "\n",
        "moja_lista.remove(\"trzeci\")\n",
        "print(\"Zaktualizowana zawartość listy (po usunięciu elementu):\", moja_lista)\n",
        "```\n",
        "\n",
        "Przykładowy wynik:\n",
        "```\n",
        "Zawartość listy: [1, 2, 'trzy', True]\n",
        "Zaktualizowana zawartość listy: [1, 2, 'trzeci', True]\n",
        "Zaktualizowana zawartość listy (po dodaniu elementu): [1, 2, 'trzeci', True, 4]\n",
        "Zaktualizowana zawartość listy (po usunięciu elementu): [1, 2, True, 4]\n",
        "```"
      ],
      "metadata": {
        "id": "o0plsy7hNj0h"
      }
    },
    {
      "cell_type": "code",
      "source": [
        "if warunek:\n",
        "    # kod do wykonania, jeśli warunek jest prawdziwy\n"
      ],
      "metadata": {
        "id": "pjVE_5hN4Hnd"
      },
      "execution_count": null,
      "outputs": []
    },
    {
      "cell_type": "markdown",
      "source": [
        "# Zadanie: Operacje na listach\n",
        "\n",
        "Opis zadania:\n",
        "Napisz program, który będzie wykonywał różne operacje na listach w Pythonie. Program powinien zawierać następujące czynności:\n",
        "\n",
        "1. Tworzenie listy:\n",
        "   - Zadeklaruj pustą listę o nazwie \"lista\".\n",
        "   - Poproś użytkownika o wprowadzenie kilku liczb całkowitych i dodaj je do listy.\n",
        "   - Wyświetl na ekranie zawartość listy.\n",
        "\n",
        "2. Sumowanie elementów listy:\n",
        "   - Oblicz sumę wszystkich elementów z listy.\n",
        "   - Wyświetl na ekranie wynik.\n",
        "\n",
        "3. Sortowanie listy:\n",
        "   - Posortuj elementy listy w kolejności rosnącej.\n",
        "   - Wyświetl na ekranie posortowaną listę.\n",
        "\n",
        "4. Wyszukiwanie elementu w liście:\n",
        "   - Poproś użytkownika o wprowadzenie liczby całkowitej do wyszukania.\n",
        "   - Sprawdź, czy ta liczba znajduje się w liście.\n",
        "   - Wyświetl na ekranie odpowiedni komunikat.\n",
        "\n",
        "5. Usuwanie elementów z listy:\n",
        "   - Poproś użytkownika o wprowadzenie liczby całkowitej do usunięcia.\n",
        "   - Jeśli ta liczba znajduje się w liście, usuń ją.\n",
        "   - Wyświetl na ekranie zaktualizowaną listę.\n",
        "\n",
        "Podpowiedź: Do dodawania elementów do listy można użyć metody append(), a do usunięcia elementów - metody remove() lub del.\n",
        "\n",
        "\n",
        "Przykładowy wynik:\n",
        "```\n",
        "Wprowadź kilka liczb całkowitych, oddzielając je spacjami: 5 2 8 1\n",
        "Zawartość listy: [5, 2, 8, 1]\n",
        "Suma elementów: 16\n",
        "Posortowana lista: [1, 2, 5, 8]\n",
        "Wprowadź liczbę do wyszukania: 5\n",
        "Liczba znajduje się w liście.\n",
        "```"
      ],
      "metadata": {
        "id": "NCyghRK5N0Xx"
      }
    },
    {
      "cell_type": "markdown",
      "source": [
        "Rozwiązanie w Pythonie"
      ],
      "metadata": {
        "id": "ve-OPfJSHNVj"
      }
    },
    {
      "cell_type": "code",
      "source": [
        "lista = []\n",
        "liczby = input(\"Wprowadź kilka liczb całkowitych, oddzielając je spacjami: \").split()\n",
        "\n",
        "for liczba in liczby:\n",
        "    lista.append(int(liczba))\n",
        "\n",
        "print(\"Zawartość listy:\", lista)\n",
        "\n",
        "suma = sum(lista)\n",
        "print(\"Suma elementów:\", suma)\n",
        "\n",
        "lista.sort()\n",
        "print(\"Posortowana lista:\", lista)\n",
        "\n",
        "liczba_do_wyszukania = int(input(\"Wprowadź liczbę do wyszukania: \"))\n",
        "if liczba_do_wyszukania in lista:\n",
        "    print(\"Liczba znajduje się w liście.\")\n",
        "else:\n",
        "    print(\"Liczba nie znajduje się w liście.\")\n",
        "\n",
        "liczba_do_usuniecia = int(input(\"Wprowadź liczbę do usunięcia: \"))\n",
        "if liczba_do_usuniecia in lista:\n",
        "    lista.remove(liczba_do_usuniecia)\n",
        "    print(\"Zaktualizowana lista po usunięciu elementu:\", lista)\n",
        "else:\n",
        "    print(\"Liczba nie występuje w liście.\")\n"
      ],
      "metadata": {
        "id": "rDf8JIUIHKWc"
      },
      "execution_count": null,
      "outputs": []
    },
    {
      "cell_type": "markdown",
      "source": [
        "#Zadanie instrukcja warunkowa\n",
        "\n",
        "**Zadanie: Sprawdź ocenę studenta**\n",
        "\n",
        "- Napisz program z użyciem intrukcji warunkowej if, elif, else, który na podstawie podanej oceny przypisanej do zmiennej studenta wyświetli odpowiednią wiadomość. Dla oceny powyżej 90 dajemy bardzo dobry, dla oceny powyżej 80 dajemy dobry, dla od 70 do 80 dostateczny, dla 50 do 60 dostateczny, dla 0-50 niezaliczony. \n",
        "\n",
        "\n",
        "\n",
        "**Przykład działania:**\n",
        "\n",
        "```\n",
        "Podaj ocenę studenta: 85\n",
        "Ocena: B - Dobry\n",
        "```\n",
        "\n",
        "\n",
        "\n",
        "To jest przykład zadania, w którym użyto instrukcji warunkowych do oceny studenta na podstawie podanej oceny. Możesz dostosować treść zadania lub warunki oceniania w zależności od potrzeb."
      ],
      "metadata": {
        "id": "vBAccGyY831U"
      }
    },
    {
      "cell_type": "code",
      "source": [
        "grade = 70\n",
        "\n",
        "if grade >= 90:\n",
        "    print(\"Ocena: A - Bardzo dobry\")\n",
        "elif grade >= 80:\n",
        "    print(\"Ocena: B - Dobry\")\n",
        "elif grade >= 70:\n",
        "    print(\"Ocena: C - Dostateczny\")\n",
        "elif grade >= 60:\n",
        "    print(\"Ocena: D - Dopuszczający\")\n",
        "else:\n",
        "    print(\"Ocena: F - Niezaliczony\")"
      ],
      "metadata": {
        "colab": {
          "base_uri": "https://localhost:8080/"
        },
        "id": "V6-w4UfYMxCa",
        "outputId": "ff4298ea-002b-4e76-baf8-cbc46446aa69"
      },
      "execution_count": null,
      "outputs": [
        {
          "output_type": "stream",
          "name": "stdout",
          "text": [
            "Ocena: C - Dostateczny\n"
          ]
        }
      ]
    },
    {
      "cell_type": "markdown",
      "source": [
        "### Importowanie modułu math w języku Python:\n",
        "\n",
        "\n",
        "**Importowanie modułu math w Pythonie**\n",
        "\n",
        "- Moduł math jest biblioteką standardową w Pythonie, która dostarcza funkcje matematyczne.\n",
        "\n",
        "**1. Importowanie całego modułu:**\n",
        "\n",
        "```python\n",
        "import math\n",
        "\n",
        "# Przykład użycia\n",
        "print(math.sqrt(25))  # Pierwiastek kwadratowy: 5.0\n",
        "```\n",
        "\n",
        "**2. Importowanie wybranych funkcji:**\n",
        "\n",
        "```python\n",
        "from math import sqrt, sin, cos\n",
        "\n",
        "# Przykład użycia\n",
        "print(sqrt(25))  # Pierwiastek kwadratowy: 5.0\n",
        "print(sin(0))  # Sinus kąta 0: 0.0\n",
        "```\n",
        "\n",
        "**3. Importowanie modułu z aliasem:**\n",
        "\n",
        "```python\n",
        "import math as m\n",
        "\n",
        "# Przykład użycia\n",
        "print(m.sqrt(25))  # Pierwiastek kwadratowy: 5.0\n",
        "```\n",
        "\n",
        "**4. Dostępne funkcje w module math:**\n",
        "\n",
        "- math.sqrt(x): Pierwiastek kwadratowy liczby x.\n",
        "- math.sin(x): Sinus kąta x (w radianach).\n",
        "- math.cos(x): Cosinus kąta x (w radianach).\n",
        "- math.pi: Stała pi (3.141592...).\n",
        "\n",
        "**Przykładowy kod:**\n",
        "\n",
        "```python\n",
        "from math import sqrt, pi\n",
        "\n",
        "radius = 5\n",
        "area = pi * sqrt(radius)\n",
        "\n",
        "print(\"Promień:\", radius)\n",
        "print(\"Powierzchnia:\", area)\n",
        "```\n",
        "\n",
        "\n"
      ],
      "metadata": {
        "id": "RFZ76VGK-qek"
      }
    },
    {
      "cell_type": "markdown",
      "source": [
        "### Zadania, które wykorzystuje moduł math w języku Python:\n",
        "\n",
        "\n",
        "**Zadanie: Obliczanie pola powierzchni koła**\n",
        "\n",
        "- Napisz program, który na podstawie podanego promienia koła obliczy jego pole powierzchni.\n",
        "\n",
        "**Instrukcje:**\n",
        "\n",
        "1. Zaimportuj moduł math.\n",
        "2. Poproś użytkownika o podanie promienia koła.\n",
        "3. Wykorzystaj funkcję math.pi do uzyskania wartości liczby pi.\n",
        "4. Oblicz pole powierzchni koła ze wzoru: A = pi * r^2, gdzie A to pole powierzchni, pi to liczba pi, a r to promień koła.\n",
        "5. Wyświetl obliczone pole powierzchni koła.\n",
        "\n",
        "**Przykładowy kod:**\n",
        "\n",
        "```python\n",
        "import math\n",
        "\n",
        "radius = float(input(\"Podaj promień koła: \"))\n",
        "\n",
        "area = math.pi * math.pow(radius, 2)\n",
        "\n",
        "print(\"Promień:\", radius)\n",
        "print(\"Pole powierzchni:\", area)\n",
        "```\n",
        "\n",
        "**Przykład działania:**\n",
        "\n",
        "```\n",
        "Podaj promień koła: 3.5\n",
        "Promień: 3.5\n",
        "Pole powierzchni: 38.48451000647496\n",
        "```\n",
        "\n",
        "\n",
        "To jest przykład zadania, w którym użyto modułu math do obliczenia pola powierzchni koła na podstawie podanego promienia. Możesz dostosować treść zadania lub dodawać więcej operacji matematycznych, które wykorzystują moduł math, w zależności od potrzeb."
      ],
      "metadata": {
        "id": "9lS2nzzt_g2u"
      }
    },
    {
      "cell_type": "markdown",
      "source": [
        "### pętle w języku Python:\n",
        "\n",
        "\n",
        "**Pętle w języku Python**\n",
        "\n",
        "- Pętle pozwalają na wykonywanie powtarzalnych operacji w programie.\n",
        "\n",
        "**1. Pętla for:**\n",
        "\n",
        "```python\n",
        "for element in sekwencja:\n",
        "    # kod do wykonania\n",
        "```\n",
        "\n",
        "- Wykonuje blok kodu dla każdego elementu w danej sekwencji.\n",
        "\n",
        "**Przykład:**\n",
        "\n",
        "```python\n",
        "fruits = ['apple', 'banana', 'orange']\n",
        "\n",
        "for fruit in fruits:\n",
        "    print(fruit)\n",
        "```\n",
        "\n",
        "- Wyświetli:\n",
        "  ```\n",
        "  apple\n",
        "  banana\n",
        "  orange\n",
        "  ```\n",
        "\n",
        "**2. Pętla while:**\n",
        "\n",
        "```python\n",
        "while warunek:\n",
        "    # kod do wykonania\n",
        "```\n",
        "\n",
        "- Wykonuje blok kodu dopóki warunek jest spełniony.\n",
        "\n",
        "**Przykład:**\n",
        "\n",
        "```python\n",
        "count = 0\n",
        "\n",
        "while count < 5:\n",
        "    print(count)\n",
        "    count += 1\n",
        "```\n",
        "\n",
        "- Wyświetli:\n",
        "  ```\n",
        "  0\n",
        "  1\n",
        "  2\n",
        "  3\n",
        "  4\n",
        "  ```\n",
        "\n",
        "**3. Instrukcje sterujące:**\n",
        "\n",
        "- break: Przerywa wykonywanie pętli.\n",
        "- continue: Przechodzi do kolejnej iteracji pętli.\n",
        "\n",
        "**Przykład:**\n",
        "\n",
        "```python\n",
        "numbers = [1, 2, 3, 4, 5]\n",
        "\n",
        "for number in numbers:\n",
        "    if number == 3:\n",
        "        continue  # Pomija liczbę 3\n",
        "    if number == 4:\n",
        "        break  # Przerywa pętlę po liczbie 4\n",
        "    print(number)\n",
        "```\n",
        "\n",
        "- Wyświetli:\n",
        "  ```\n",
        "  1\n",
        "  2\n",
        "  ```\n"
      ],
      "metadata": {
        "id": "3h8tMQ3tA__B"
      }
    },
    {
      "cell_type": "code",
      "source": [],
      "metadata": {
        "id": "06ys3kCXB8y-"
      },
      "execution_count": null,
      "outputs": []
    },
    {
      "cell_type": "markdown",
      "source": [
        "\n",
        "\n",
        "**Tworzenie funkcji w języku Python**\n",
        "\n",
        "- Funkcje są blokami kodu, które mogą być wielokrotnie wywoływane w programie.\n",
        "- Tworzenie funkcji pozwala na modularyzację kodu i poprawia czytelność.\n",
        "\n",
        "**1. Składnia tworzenia funkcji:**\n",
        "\n",
        "```python\n",
        "def nazwa_funkcji(parametry):\n",
        "    # kod funkcji\n",
        "    return wynik\n",
        "```\n",
        "\n",
        "**2. Definiowanie parametrów funkcji:**\n",
        "\n",
        "- Parametry to wartości, które można przekazać do funkcji podczas jej wywołania.\n",
        "\n",
        "```python\n",
        "def powitanie(imie):\n",
        "    print(\"Witaj\", imie)\n",
        "\n",
        "powitanie(\"Anna\")  # Wyświetli: \"Witaj Anna\"\n",
        "```\n",
        "\n",
        "**3. Zwracanie wartości przez funkcję:**\n",
        "\n",
        "- Instrukcja return pozwala na zwrócenie wartości przez funkcję.\n",
        "\n",
        "```python\n",
        "def dodaj(a, b):\n",
        "    suma = a + b\n",
        "    return suma\n",
        "\n",
        "wynik = dodaj(2, 3)\n",
        "print(wynik)  # Wyświetli: 5\n",
        "```\n",
        "\n",
        "**4. Wywoływanie funkcji:**\n",
        "\n",
        "- Funkcje są wywoływane poprzez podanie ich nazwy, a jeśli mają parametry, należy przekazać odpowiednie wartości.\n",
        "\n",
        "```python\n",
        "def powitanie(imie):\n",
        "    print(\"Witaj\", imie)\n",
        "\n",
        "powitanie(\"Jan\")  # Wywołanie funkcji\n",
        "```\n",
        "\n",
        "**Przykładowy kod:**\n",
        "\n",
        "```python\n",
        "def pole_prostokata(a, b):\n",
        "    pole = a * b\n",
        "    return pole\n",
        "\n",
        "dlugosc = 4\n",
        "szerokosc = 6\n",
        "wynik = pole_prostokata(dlugosc, szerokosc)\n",
        "\n",
        "print(\"Długość:\", dlugosc)\n",
        "print(\"Szerokość:\", szerokosc)\n",
        "print(\"Pole prostokąta:\", wynik)\n",
        "```\n",
        "\n"
      ],
      "metadata": {
        "id": "Tq4D5XO6B9UY"
      }
    },
    {
      "cell_type": "markdown",
      "source": [
        "# Zadanie związanego z wywołaniem funkcji w języku Python:\n",
        "\n",
        "\n",
        "**Zadanie: Obliczanie średniej arytmetycznej**\n",
        "\n",
        "- Napisz program, który obliczy średnią arytmetyczną z podanych liczb.\n",
        "\n",
        "**Instrukcje:**\n",
        "\n",
        "1. Zdefiniuj funkcję `oblicz_srednia`, która przyjmie listę liczb jako parametr.\n",
        "2. Wewnątrz funkcji, użyj pętli for do iteracji po elementach listy i obliczenia sumy tych liczb.\n",
        "3. Oblicz średnią arytmetyczną, dzieląc sumę przez liczbę elementów w liście.\n",
        "4. Zwróć obliczoną średnią z funkcji.\n",
        "5. Poproś użytkownika o wprowadzenie listy liczb.\n",
        "6. Przekształć wprowadzoną listę w listę liczb za pomocą metody `split()`.\n",
        "7. Wywołaj funkcję `oblicz_srednia` przekazując przekształconą listę jako argument.\n",
        "8. Wyświetl obliczoną średnią.\n",
        "\n",
        "**Przykładowy kod:**\n",
        "\n",
        "```python\n",
        "def oblicz_srednia(lista):\n",
        "    suma = 0\n",
        "    ilosc = 0\n",
        "    for liczba in lista:\n",
        "        suma += float(liczba)\n",
        "        ilosc += 1\n",
        "    srednia = suma / ilosc\n",
        "    return srednia\n",
        "\n",
        "liczby = input(\"Podaj liczby oddzielone spacją: \")\n",
        "lista_liczb = liczby.split()\n",
        "\n",
        "srednia = oblicz_srednia(lista_liczb)\n",
        "\n",
        "print(\"Średnia arytmetyczna:\", srednia)\n",
        "```\n",
        "\n",
        "**Przykład działania:**\n",
        "\n",
        "```\n",
        "Podaj liczby oddzielone spacją: 5 8 3 6 9\n",
        "Średnia arytmetyczna: 6.2\n",
        "```\n",
        "\n",
        "To jest przykład zadania, w którym użyto wywołania funkcji do obliczenia średniej arytmetycznej z podanych liczb. Możesz dostosować treść zadania lub dodać więcej operacji na liczbach w zależności od potrzeb."
      ],
      "metadata": {
        "id": "6ChvIhZTDAK4"
      }
    }
  ]
}
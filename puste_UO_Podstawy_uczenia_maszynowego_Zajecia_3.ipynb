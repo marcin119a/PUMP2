{
  "nbformat": 4,
  "nbformat_minor": 0,
  "metadata": {
    "colab": {
      "provenance": [],
      "include_colab_link": true
    },
    "kernelspec": {
      "name": "python3",
      "display_name": "Python 3"
    },
    "language_info": {
      "name": "python"
    }
  },
  "cells": [
    {
      "cell_type": "markdown",
      "metadata": {
        "id": "view-in-github",
        "colab_type": "text"
      },
      "source": [
        "<a href=\"https://colab.research.google.com/github/marcin119a/PUMP2/blob/main/puste_UO_Podstawy_uczenia_maszynowego_Zajecia_3.ipynb\" target=\"_parent\"><img src=\"https://colab.research.google.com/assets/colab-badge.svg\" alt=\"Open In Colab\"/></a>"
      ]
    },
    {
      "cell_type": "code",
      "execution_count": null,
      "metadata": {
        "id": "1qWwUfF3xU-S"
      },
      "outputs": [],
      "source": [
        "import pandas as pd\n",
        "\n",
        "\n",
        "tips = pd.read_csv('https://raw.githubusercontent.com/marcin119a/PODSTAWY-UCZENIA-MASZYNOWEGO-W-PYTHONIE-/main/tips.csv')"
      ]
    },
    {
      "cell_type": "markdown",
      "source": [
        "\n",
        "Zbiór danych \"tips\" to popularny zestaw danych zawarty w bibliotece Seaborn. Zawiera informacje na temat faktur wystawionych w fikcyjnym restauracji. Zbiór składa się z kilku kolumn, które zawierają różne informacje dotyczące poszczególnych rachunków, takie jak:\n",
        "\n",
        "\n",
        "* total_bill: Całkowita kwota rachunku, obejmująca opłatę za posiłek i ewentualne napiwki.\n",
        "* tip: Kwota napiwku pozostawiona przez klienta.\n",
        "* sex: Płeć osoby płacącej rachunek (mężczyzna lub kobieta).\n",
        "* smoker: Czy osoba płacąca rachunek jest paląca (Yes - tak, No - nie).\n",
        "* day: Dzień tygodnia, w którym odbył się posiłek.\n",
        "* time: Czy posiłek był serwowany w porze lunchu czy kolacji.\n",
        "*  size: Liczba osób przy stole."
      ],
      "metadata": {
        "id": "EfjtJCGFZTxt"
      }
    },
    {
      "cell_type": "markdown",
      "source": [
        "Oto kilka zadań związanych z zbiorem danych \"tips\":\n",
        "\n",
        "1. Oblicz średnią wartość rachunku dla wszystkich płci.\n",
        "2. Porównaj średnią wartość napiwku dla palących i niepalących gości.\n",
        "3. Sprawdź, który dzień tygodnia jest najbardziej popularny w restauracji na podstawie liczby obsłużonych gości.\n",
        "4. Oblicz procentowy udział płci w całkowitej liczbie gości.\n",
        "5. Znajdź dzień tygodnia, w którym goście zostawiają największe napiwki.\n",
        "6. Porównaj średnią wartość rachunku dla grup o różnej liczbie osób przy stole.\n",
        "7. Oblicz procentowy udział lunchu i kolacji w całkowitej liczbie posiłków.\n",
        "8. Znajdź najczęściej występujący rozmiar grupy.\n",
        "\n",
        "Te zadania pozwalają na eksplorację i analizę różnych aspektów zbioru danych \"tips\" i mogą dostarczyć ciekawych wniosków na temat zachowań klientów w restauracji.\n",
        "\n",
        "W celu rozwiązania tych zadań można użyć różnych funkcji i metod dostępnych w bibliotece pandas, takich jak mean(), max(), min(), groupby(), value_counts(), sum(), oraz dodawanie nowych kolumn poprzez operator."
      ],
      "metadata": {
        "id": "vRLfI53VZ4WP"
      }
    },
    {
      "cell_type": "markdown",
      "source": [
        "Oblicz średnią wartość rachunku dla wszystkich płci:"
      ],
      "metadata": {
        "id": "mOm5SZTpaSkb"
      }
    },
    {
      "cell_type": "code",
      "source": [],
      "metadata": {
        "id": "lYtOSHThmI7c"
      },
      "execution_count": null,
      "outputs": []
    },
    {
      "cell_type": "markdown",
      "source": [
        "Porównaj średnią wartość napiwku dla palących i niepalących gości:"
      ],
      "metadata": {
        "id": "cXwl2s56aUre"
      }
    },
    {
      "cell_type": "code",
      "source": [],
      "metadata": {
        "id": "1cF3sWk1mJk1"
      },
      "execution_count": null,
      "outputs": []
    },
    {
      "cell_type": "markdown",
      "source": [
        "Sprawdź, który dzień tygodnia jest najbardziej popularny w restauracji na podstawie liczby obsłużonych gości:"
      ],
      "metadata": {
        "id": "zWTg9hyYaVD8"
      }
    },
    {
      "cell_type": "code",
      "source": [],
      "metadata": {
        "id": "11VB3ycPmKY6"
      },
      "execution_count": null,
      "outputs": []
    },
    {
      "cell_type": "markdown",
      "source": [
        "Oblicz procentowy udział płci w całkowitej liczbie gości:"
      ],
      "metadata": {
        "id": "Afb0QmzYaVVJ"
      }
    },
    {
      "cell_type": "code",
      "source": [],
      "metadata": {
        "id": "lw6A-QGlmL4v"
      },
      "execution_count": null,
      "outputs": []
    },
    {
      "cell_type": "markdown",
      "source": [
        "Znajdź dzień tygodnia, w którym goście zostawiają największe napiwki:"
      ],
      "metadata": {
        "id": "VOedGwb5aVjD"
      }
    },
    {
      "cell_type": "code",
      "source": [],
      "metadata": {
        "id": "mhaa6TyrmMw_"
      },
      "execution_count": null,
      "outputs": []
    },
    {
      "cell_type": "markdown",
      "source": [
        "Porównaj średnią wartość rachunku dla grup o różnej liczbie osób przy stole:"
      ],
      "metadata": {
        "id": "u9db1hg5aWEC"
      }
    },
    {
      "cell_type": "code",
      "source": [],
      "metadata": {
        "id": "0XVe9Ot4mNm4"
      },
      "execution_count": null,
      "outputs": []
    },
    {
      "cell_type": "markdown",
      "source": [
        "Oblicz procentowy udział lunchu i kolacji w całkowitej liczbie posiłków:"
      ],
      "metadata": {
        "id": "xQX9fO4xaW0R"
      }
    },
    {
      "cell_type": "code",
      "source": [],
      "metadata": {
        "id": "GzEPVqQnmOj1"
      },
      "execution_count": null,
      "outputs": []
    },
    {
      "cell_type": "markdown",
      "source": [
        "Znajdź najczęściej występujący rozmiar grupy:"
      ],
      "metadata": {
        "id": "oTqGj4iBbALU"
      }
    },
    {
      "cell_type": "code",
      "source": [],
      "metadata": {
        "id": "u_a18s4-mPe6"
      },
      "execution_count": null,
      "outputs": []
    },
    {
      "cell_type": "markdown",
      "source": [
        "## Zadanie 2\n",
        "\n",
        "1. Wczytaj danę do zmiennej df_income z poniższego kodu.\n",
        "2. Wyświetl, 10 ostatnich i pierwszych wierzy tej ramki.\n",
        "3. Sprawdź, ile ramka ma wierzy i kolumn za pomocą .shape .\n",
        "4. Odfiltruj te kraję, które mają PKB na osobę mniejsze niż 2500.\n",
        "5. Dodaj kolumnę, w której będzie informacja o całkowitym PKB. (Hint: wystarczy wymnożyć PKB na osobę z populacją).\n",
        "6. Policz średnią dla PKB na osobę dla wszystkich krajów za pomocą .mean() .\n",
        "7. Policz medianę dla PKB na osobę i Populacji  za pomocną .median() .\n",
        "8. Ile jest krajów z Północnej Ameryki, które mają poniżej 100 000 populacji?\n",
        "9. Zapisz te kraje do pliku CSV."
      ],
      "metadata": {
        "id": "cdQB1dYN8NS8"
      }
    },
    {
      "cell_type": "markdown",
      "source": [
        "Zbior danych dotyczy informacje z różnych krajów, włączając w to dane takie jak:\n",
        "\n",
        "* Kraj (Country)\n",
        "* Produkt krajowy brutto na mieszkańca (GDP per capita)\n",
        "* Średnia długość życia (Life expectancy)\n",
        "* Populacja (Population)\n",
        "* Kontynent (Continent)\n",
        "\n",
        "Przykład danych dla kraju Lesotho jest następujący:\n",
        "\n",
        "* Kraj: Lesotho\n",
        "* Produkt krajowy brutto na mieszkańca: 2598\n",
        "* Średnia długość życia: 47.1\n",
        "* Populacja: 2174645\n",
        "* Kontynent: Afryka (Africa)"
      ],
      "metadata": {
        "id": "UhrHGWFqbpEs"
      }
    },
    {
      "cell_type": "code",
      "source": [
        "import pandas as pd\n",
        "\n",
        "df = pd.read_csv('https://raw.githubusercontent.com/marcin119a/PODSTAWY-UCZENIA-MASZYNOWEGO-W-PYTHONIE-/main/income.csv', sep=';')\n",
        "\n",
        "df.head()"
      ],
      "metadata": {
        "id": "8a397d7Y-jUn",
        "colab": {
          "base_uri": "https://localhost:8080/",
          "height": 206
        },
        "outputId": "b49b546b-53a7-40c9-e755-1f4e091118fa"
      },
      "execution_count": null,
      "outputs": [
        {
          "output_type": "execute_result",
          "data": {
            "text/plain": [
              "                    Country  GDP per capita  Life expectancy  Population  \\\n",
              "0                   Lesotho            2598             47.1     2174645   \n",
              "1  Central African Republic             599             49.6     4546100   \n",
              "2                 Swaziland            6095             51.8     1319011   \n",
              "3               Afghanistan            1925             53.8    33736494   \n",
              "4                   Somalia             624             54.2    13908129   \n",
              "\n",
              "  Continent  \n",
              "0    Africa  \n",
              "1    Africa  \n",
              "2    Africa  \n",
              "3      Asia  \n",
              "4    Africa  "
            ],
            "text/html": [
              "\n",
              "  <div id=\"df-a5abeb33-c449-42fe-bc13-433ddfa3fd76\">\n",
              "    <div class=\"colab-df-container\">\n",
              "      <div>\n",
              "<style scoped>\n",
              "    .dataframe tbody tr th:only-of-type {\n",
              "        vertical-align: middle;\n",
              "    }\n",
              "\n",
              "    .dataframe tbody tr th {\n",
              "        vertical-align: top;\n",
              "    }\n",
              "\n",
              "    .dataframe thead th {\n",
              "        text-align: right;\n",
              "    }\n",
              "</style>\n",
              "<table border=\"1\" class=\"dataframe\">\n",
              "  <thead>\n",
              "    <tr style=\"text-align: right;\">\n",
              "      <th></th>\n",
              "      <th>Country</th>\n",
              "      <th>GDP per capita</th>\n",
              "      <th>Life expectancy</th>\n",
              "      <th>Population</th>\n",
              "      <th>Continent</th>\n",
              "    </tr>\n",
              "  </thead>\n",
              "  <tbody>\n",
              "    <tr>\n",
              "      <th>0</th>\n",
              "      <td>Lesotho</td>\n",
              "      <td>2598</td>\n",
              "      <td>47.1</td>\n",
              "      <td>2174645</td>\n",
              "      <td>Africa</td>\n",
              "    </tr>\n",
              "    <tr>\n",
              "      <th>1</th>\n",
              "      <td>Central African Republic</td>\n",
              "      <td>599</td>\n",
              "      <td>49.6</td>\n",
              "      <td>4546100</td>\n",
              "      <td>Africa</td>\n",
              "    </tr>\n",
              "    <tr>\n",
              "      <th>2</th>\n",
              "      <td>Swaziland</td>\n",
              "      <td>6095</td>\n",
              "      <td>51.8</td>\n",
              "      <td>1319011</td>\n",
              "      <td>Africa</td>\n",
              "    </tr>\n",
              "    <tr>\n",
              "      <th>3</th>\n",
              "      <td>Afghanistan</td>\n",
              "      <td>1925</td>\n",
              "      <td>53.8</td>\n",
              "      <td>33736494</td>\n",
              "      <td>Asia</td>\n",
              "    </tr>\n",
              "    <tr>\n",
              "      <th>4</th>\n",
              "      <td>Somalia</td>\n",
              "      <td>624</td>\n",
              "      <td>54.2</td>\n",
              "      <td>13908129</td>\n",
              "      <td>Africa</td>\n",
              "    </tr>\n",
              "  </tbody>\n",
              "</table>\n",
              "</div>\n",
              "      <button class=\"colab-df-convert\" onclick=\"convertToInteractive('df-a5abeb33-c449-42fe-bc13-433ddfa3fd76')\"\n",
              "              title=\"Convert this dataframe to an interactive table.\"\n",
              "              style=\"display:none;\">\n",
              "        \n",
              "  <svg xmlns=\"http://www.w3.org/2000/svg\" height=\"24px\"viewBox=\"0 0 24 24\"\n",
              "       width=\"24px\">\n",
              "    <path d=\"M0 0h24v24H0V0z\" fill=\"none\"/>\n",
              "    <path d=\"M18.56 5.44l.94 2.06.94-2.06 2.06-.94-2.06-.94-.94-2.06-.94 2.06-2.06.94zm-11 1L8.5 8.5l.94-2.06 2.06-.94-2.06-.94L8.5 2.5l-.94 2.06-2.06.94zm10 10l.94 2.06.94-2.06 2.06-.94-2.06-.94-.94-2.06-.94 2.06-2.06.94z\"/><path d=\"M17.41 7.96l-1.37-1.37c-.4-.4-.92-.59-1.43-.59-.52 0-1.04.2-1.43.59L10.3 9.45l-7.72 7.72c-.78.78-.78 2.05 0 2.83L4 21.41c.39.39.9.59 1.41.59.51 0 1.02-.2 1.41-.59l7.78-7.78 2.81-2.81c.8-.78.8-2.07 0-2.86zM5.41 20L4 18.59l7.72-7.72 1.47 1.35L5.41 20z\"/>\n",
              "  </svg>\n",
              "      </button>\n",
              "      \n",
              "  <style>\n",
              "    .colab-df-container {\n",
              "      display:flex;\n",
              "      flex-wrap:wrap;\n",
              "      gap: 12px;\n",
              "    }\n",
              "\n",
              "    .colab-df-convert {\n",
              "      background-color: #E8F0FE;\n",
              "      border: none;\n",
              "      border-radius: 50%;\n",
              "      cursor: pointer;\n",
              "      display: none;\n",
              "      fill: #1967D2;\n",
              "      height: 32px;\n",
              "      padding: 0 0 0 0;\n",
              "      width: 32px;\n",
              "    }\n",
              "\n",
              "    .colab-df-convert:hover {\n",
              "      background-color: #E2EBFA;\n",
              "      box-shadow: 0px 1px 2px rgba(60, 64, 67, 0.3), 0px 1px 3px 1px rgba(60, 64, 67, 0.15);\n",
              "      fill: #174EA6;\n",
              "    }\n",
              "\n",
              "    [theme=dark] .colab-df-convert {\n",
              "      background-color: #3B4455;\n",
              "      fill: #D2E3FC;\n",
              "    }\n",
              "\n",
              "    [theme=dark] .colab-df-convert:hover {\n",
              "      background-color: #434B5C;\n",
              "      box-shadow: 0px 1px 3px 1px rgba(0, 0, 0, 0.15);\n",
              "      filter: drop-shadow(0px 1px 2px rgba(0, 0, 0, 0.3));\n",
              "      fill: #FFFFFF;\n",
              "    }\n",
              "  </style>\n",
              "\n",
              "      <script>\n",
              "        const buttonEl =\n",
              "          document.querySelector('#df-a5abeb33-c449-42fe-bc13-433ddfa3fd76 button.colab-df-convert');\n",
              "        buttonEl.style.display =\n",
              "          google.colab.kernel.accessAllowed ? 'block' : 'none';\n",
              "\n",
              "        async function convertToInteractive(key) {\n",
              "          const element = document.querySelector('#df-a5abeb33-c449-42fe-bc13-433ddfa3fd76');\n",
              "          const dataTable =\n",
              "            await google.colab.kernel.invokeFunction('convertToInteractive',\n",
              "                                                     [key], {});\n",
              "          if (!dataTable) return;\n",
              "\n",
              "          const docLinkHtml = 'Like what you see? Visit the ' +\n",
              "            '<a target=\"_blank\" href=https://colab.research.google.com/notebooks/data_table.ipynb>data table notebook</a>'\n",
              "            + ' to learn more about interactive tables.';\n",
              "          element.innerHTML = '';\n",
              "          dataTable['output_type'] = 'display_data';\n",
              "          await google.colab.output.renderOutput(dataTable, element);\n",
              "          const docLink = document.createElement('div');\n",
              "          docLink.innerHTML = docLinkHtml;\n",
              "          element.appendChild(docLink);\n",
              "        }\n",
              "      </script>\n",
              "    </div>\n",
              "  </div>\n",
              "  "
            ]
          },
          "metadata": {},
          "execution_count": 21
        }
      ]
    },
    {
      "cell_type": "markdown",
      "source": [
        "Oto kilka zadań związanych z filtrowaniem danych w bibliotece pandas dla zbioru danych \"Country\":\n",
        "\n",
        "1. Wyświetl informacje tylko o krajach z kontynentu Afryka (Africa).\n",
        "2. Znajdź kraje, w których średnia długość życia przekracza 80 lat.\n",
        "3. Wybierz kraje, których populacja jest większa niż 10 milionów.\n",
        "4. Znajdź kraj o najwyższym dochodzie na mieszkańca.\n",
        "5. Zidentyfikuj kraje, które mają niski dochód na mieszkańca, ale długą średnią długość życia.\n",
        "6. Wybierz kraje, których populacja znajduje się w przedziale od 5 do 10 milionów.\n",
        "7. Znajdź kraje, których dochód na mieszkańca jest poniżej średniej, ale mają wysoką średnią długość życia.\n",
        "8. Wyświetl informacje tylko o krajach o populacji większej niż 1 milion i średniej długości życia większej niż 70 lat.\n",
        "9. Znajdź kraje, które mają wysoki dochód na mieszkańca i niską populację.\n",
        "10. Wybierz kraje, które znajdują się na kontynencie poza Afryką i mają dochód na mieszkańca powyżej 5000.\n",
        "\n",
        "W celu rozwiązania tych zadań można użyć różnych funkcji i metod dostępnych w bibliotece pandas, takich jak mean(), query(), sum(), oraz dodawanie nowych kolumn poprzez operator []."
      ],
      "metadata": {
        "id": "NrSawaLPb9-4"
      }
    },
    {
      "cell_type": "markdown",
      "source": [
        "1. Wyświetl informacje tylko o krajach z kontynentu Afryka (Africa):"
      ],
      "metadata": {
        "id": "42Omr7_KcQBG"
      }
    },
    {
      "cell_type": "markdown",
      "source": [
        "Znajdź kraje, w których średnia długość życia przekracza 80 lat:"
      ],
      "metadata": {
        "id": "8wsCsRTQcQas"
      }
    },
    {
      "cell_type": "code",
      "source": [],
      "metadata": {
        "id": "ytAgxH-mmgEy"
      },
      "execution_count": null,
      "outputs": []
    },
    {
      "cell_type": "markdown",
      "source": [
        "Wybierz kraje, których populacja jest większa niż 10 milionów:"
      ],
      "metadata": {
        "id": "D6xanUxDcQ0H"
      }
    },
    {
      "cell_type": "code",
      "source": [],
      "metadata": {
        "id": "lC8RPRb3mgcv"
      },
      "execution_count": null,
      "outputs": []
    },
    {
      "cell_type": "markdown",
      "source": [
        "Znajdź kraj o najwyższym dochodzie na mieszkańca:"
      ],
      "metadata": {
        "id": "LTev_-c1cRIv"
      }
    },
    {
      "cell_type": "code",
      "source": [],
      "metadata": {
        "id": "YLA8T66-mg2g"
      },
      "execution_count": null,
      "outputs": []
    },
    {
      "cell_type": "markdown",
      "source": [
        "Zidentyfikuj kraje, które mają niski dochód na mieszkańca, ale długą średnią długość życia:"
      ],
      "metadata": {
        "id": "VbivXk4acRV_"
      }
    },
    {
      "cell_type": "code",
      "source": [],
      "metadata": {
        "id": "rwLAkiSHmhSo"
      },
      "execution_count": null,
      "outputs": []
    },
    {
      "cell_type": "markdown",
      "source": [
        "Wybierz kraje, których populacja znajduje się w przedziale od 5 do 10 milionów:"
      ],
      "metadata": {
        "id": "wjPocDD1cRqT"
      }
    },
    {
      "cell_type": "code",
      "source": [],
      "metadata": {
        "id": "mSW54FeWmhsZ"
      },
      "execution_count": null,
      "outputs": []
    },
    {
      "cell_type": "markdown",
      "source": [
        "Znajdź kraje, których dochód na mieszkańca jest poniżej średniej, ale mają wysoką średnią długość życia:"
      ],
      "metadata": {
        "id": "jQ96fvC7cR6m"
      }
    },
    {
      "cell_type": "code",
      "source": [],
      "metadata": {
        "id": "lprljoyBmiP0"
      },
      "execution_count": null,
      "outputs": []
    },
    {
      "cell_type": "markdown",
      "source": [
        "Wyświetl informacje tylko o krajach o populacji większej niż 1 milion i średniej długości życia większej niż 70 lat:"
      ],
      "metadata": {
        "id": "y4no1Jg-cSMA"
      }
    },
    {
      "cell_type": "code",
      "source": [],
      "metadata": {
        "id": "2jYMCo3Omiuz"
      },
      "execution_count": null,
      "outputs": []
    },
    {
      "cell_type": "markdown",
      "source": [
        "Znajdź kraje, które mają wysoki dochód na mieszkańca i niską populację:"
      ],
      "metadata": {
        "id": "yjI0sqbvdHQX"
      }
    },
    {
      "cell_type": "code",
      "source": [],
      "metadata": {
        "id": "ESX9K6aJmjRL"
      },
      "execution_count": null,
      "outputs": []
    },
    {
      "cell_type": "markdown",
      "source": [
        "Wybierz kraje, które znajdują się na kontynencie poza Afryką i mają dochód na mieszkańca powyżej 5000:"
      ],
      "metadata": {
        "id": "xP4SzibZdHnr"
      }
    },
    {
      "cell_type": "code",
      "source": [],
      "metadata": {
        "id": "mJL0Cx_Imjpa"
      },
      "execution_count": null,
      "outputs": []
    },
    {
      "cell_type": "markdown",
      "source": [
        "# Zadanie 3\n",
        "\n",
        "Jest to popularny zbiór danych zawierający informacje dotyczące pasażerów na statku Titanic, który zatonął w 1912 roku. Zbiór danych \"Titanic\" zawiera różne kolumny, takie jak:\n",
        "\n",
        "* Survived: Czy pasażer przeżył (0 - Nie, 1 - Tak)\n",
        "* Pclass: Klasa biletu (1 - Pierwsza klasa, 2 - Druga klasa, 3 - Trzecia klasa)\n",
        "* Sex: Płeć pasażera\n",
        "* Age: Wiek pasażera\n",
        "* SibSp: Liczba rodzeństwa/małżonków na pokładzie\n",
        "* Parch: Liczba rodziców/dzieci na pokładzie\n",
        "* Fare: Opłata za bilet"
      ],
      "metadata": {
        "id": "_zY7QRxJGwMT"
      }
    },
    {
      "cell_type": "code",
      "source": [
        "import pandas as pd\n",
        "\n",
        "titanic_df = pd.read_csv('https://raw.githubusercontent.com/datasciencedojo/datasets/master/titanic.csv')\n",
        "titanic_df.head()"
      ],
      "metadata": {
        "id": "lu_8mzz1Gnl1",
        "colab": {
          "base_uri": "https://localhost:8080/",
          "height": 302
        },
        "outputId": "2d425a9c-8d8c-43d1-e1c2-85f4cffeac1f"
      },
      "execution_count": null,
      "outputs": [
        {
          "output_type": "execute_result",
          "data": {
            "text/plain": [
              "   PassengerId  Survived  Pclass  \\\n",
              "0            1         0       3   \n",
              "1            2         1       1   \n",
              "2            3         1       3   \n",
              "3            4         1       1   \n",
              "4            5         0       3   \n",
              "\n",
              "                                                Name     Sex   Age  SibSp  \\\n",
              "0                            Braund, Mr. Owen Harris    male  22.0      1   \n",
              "1  Cumings, Mrs. John Bradley (Florence Briggs Th...  female  38.0      1   \n",
              "2                             Heikkinen, Miss. Laina  female  26.0      0   \n",
              "3       Futrelle, Mrs. Jacques Heath (Lily May Peel)  female  35.0      1   \n",
              "4                           Allen, Mr. William Henry    male  35.0      0   \n",
              "\n",
              "   Parch            Ticket     Fare Cabin Embarked  \n",
              "0      0         A/5 21171   7.2500   NaN        S  \n",
              "1      0          PC 17599  71.2833   C85        C  \n",
              "2      0  STON/O2. 3101282   7.9250   NaN        S  \n",
              "3      0            113803  53.1000  C123        S  \n",
              "4      0            373450   8.0500   NaN        S  "
            ],
            "text/html": [
              "\n",
              "  <div id=\"df-bfb42f77-0db0-4f6b-a838-f9aeb24de70d\">\n",
              "    <div class=\"colab-df-container\">\n",
              "      <div>\n",
              "<style scoped>\n",
              "    .dataframe tbody tr th:only-of-type {\n",
              "        vertical-align: middle;\n",
              "    }\n",
              "\n",
              "    .dataframe tbody tr th {\n",
              "        vertical-align: top;\n",
              "    }\n",
              "\n",
              "    .dataframe thead th {\n",
              "        text-align: right;\n",
              "    }\n",
              "</style>\n",
              "<table border=\"1\" class=\"dataframe\">\n",
              "  <thead>\n",
              "    <tr style=\"text-align: right;\">\n",
              "      <th></th>\n",
              "      <th>PassengerId</th>\n",
              "      <th>Survived</th>\n",
              "      <th>Pclass</th>\n",
              "      <th>Name</th>\n",
              "      <th>Sex</th>\n",
              "      <th>Age</th>\n",
              "      <th>SibSp</th>\n",
              "      <th>Parch</th>\n",
              "      <th>Ticket</th>\n",
              "      <th>Fare</th>\n",
              "      <th>Cabin</th>\n",
              "      <th>Embarked</th>\n",
              "    </tr>\n",
              "  </thead>\n",
              "  <tbody>\n",
              "    <tr>\n",
              "      <th>0</th>\n",
              "      <td>1</td>\n",
              "      <td>0</td>\n",
              "      <td>3</td>\n",
              "      <td>Braund, Mr. Owen Harris</td>\n",
              "      <td>male</td>\n",
              "      <td>22.0</td>\n",
              "      <td>1</td>\n",
              "      <td>0</td>\n",
              "      <td>A/5 21171</td>\n",
              "      <td>7.2500</td>\n",
              "      <td>NaN</td>\n",
              "      <td>S</td>\n",
              "    </tr>\n",
              "    <tr>\n",
              "      <th>1</th>\n",
              "      <td>2</td>\n",
              "      <td>1</td>\n",
              "      <td>1</td>\n",
              "      <td>Cumings, Mrs. John Bradley (Florence Briggs Th...</td>\n",
              "      <td>female</td>\n",
              "      <td>38.0</td>\n",
              "      <td>1</td>\n",
              "      <td>0</td>\n",
              "      <td>PC 17599</td>\n",
              "      <td>71.2833</td>\n",
              "      <td>C85</td>\n",
              "      <td>C</td>\n",
              "    </tr>\n",
              "    <tr>\n",
              "      <th>2</th>\n",
              "      <td>3</td>\n",
              "      <td>1</td>\n",
              "      <td>3</td>\n",
              "      <td>Heikkinen, Miss. Laina</td>\n",
              "      <td>female</td>\n",
              "      <td>26.0</td>\n",
              "      <td>0</td>\n",
              "      <td>0</td>\n",
              "      <td>STON/O2. 3101282</td>\n",
              "      <td>7.9250</td>\n",
              "      <td>NaN</td>\n",
              "      <td>S</td>\n",
              "    </tr>\n",
              "    <tr>\n",
              "      <th>3</th>\n",
              "      <td>4</td>\n",
              "      <td>1</td>\n",
              "      <td>1</td>\n",
              "      <td>Futrelle, Mrs. Jacques Heath (Lily May Peel)</td>\n",
              "      <td>female</td>\n",
              "      <td>35.0</td>\n",
              "      <td>1</td>\n",
              "      <td>0</td>\n",
              "      <td>113803</td>\n",
              "      <td>53.1000</td>\n",
              "      <td>C123</td>\n",
              "      <td>S</td>\n",
              "    </tr>\n",
              "    <tr>\n",
              "      <th>4</th>\n",
              "      <td>5</td>\n",
              "      <td>0</td>\n",
              "      <td>3</td>\n",
              "      <td>Allen, Mr. William Henry</td>\n",
              "      <td>male</td>\n",
              "      <td>35.0</td>\n",
              "      <td>0</td>\n",
              "      <td>0</td>\n",
              "      <td>373450</td>\n",
              "      <td>8.0500</td>\n",
              "      <td>NaN</td>\n",
              "      <td>S</td>\n",
              "    </tr>\n",
              "  </tbody>\n",
              "</table>\n",
              "</div>\n",
              "      <button class=\"colab-df-convert\" onclick=\"convertToInteractive('df-bfb42f77-0db0-4f6b-a838-f9aeb24de70d')\"\n",
              "              title=\"Convert this dataframe to an interactive table.\"\n",
              "              style=\"display:none;\">\n",
              "        \n",
              "  <svg xmlns=\"http://www.w3.org/2000/svg\" height=\"24px\"viewBox=\"0 0 24 24\"\n",
              "       width=\"24px\">\n",
              "    <path d=\"M0 0h24v24H0V0z\" fill=\"none\"/>\n",
              "    <path d=\"M18.56 5.44l.94 2.06.94-2.06 2.06-.94-2.06-.94-.94-2.06-.94 2.06-2.06.94zm-11 1L8.5 8.5l.94-2.06 2.06-.94-2.06-.94L8.5 2.5l-.94 2.06-2.06.94zm10 10l.94 2.06.94-2.06 2.06-.94-2.06-.94-.94-2.06-.94 2.06-2.06.94z\"/><path d=\"M17.41 7.96l-1.37-1.37c-.4-.4-.92-.59-1.43-.59-.52 0-1.04.2-1.43.59L10.3 9.45l-7.72 7.72c-.78.78-.78 2.05 0 2.83L4 21.41c.39.39.9.59 1.41.59.51 0 1.02-.2 1.41-.59l7.78-7.78 2.81-2.81c.8-.78.8-2.07 0-2.86zM5.41 20L4 18.59l7.72-7.72 1.47 1.35L5.41 20z\"/>\n",
              "  </svg>\n",
              "      </button>\n",
              "      \n",
              "  <style>\n",
              "    .colab-df-container {\n",
              "      display:flex;\n",
              "      flex-wrap:wrap;\n",
              "      gap: 12px;\n",
              "    }\n",
              "\n",
              "    .colab-df-convert {\n",
              "      background-color: #E8F0FE;\n",
              "      border: none;\n",
              "      border-radius: 50%;\n",
              "      cursor: pointer;\n",
              "      display: none;\n",
              "      fill: #1967D2;\n",
              "      height: 32px;\n",
              "      padding: 0 0 0 0;\n",
              "      width: 32px;\n",
              "    }\n",
              "\n",
              "    .colab-df-convert:hover {\n",
              "      background-color: #E2EBFA;\n",
              "      box-shadow: 0px 1px 2px rgba(60, 64, 67, 0.3), 0px 1px 3px 1px rgba(60, 64, 67, 0.15);\n",
              "      fill: #174EA6;\n",
              "    }\n",
              "\n",
              "    [theme=dark] .colab-df-convert {\n",
              "      background-color: #3B4455;\n",
              "      fill: #D2E3FC;\n",
              "    }\n",
              "\n",
              "    [theme=dark] .colab-df-convert:hover {\n",
              "      background-color: #434B5C;\n",
              "      box-shadow: 0px 1px 3px 1px rgba(0, 0, 0, 0.15);\n",
              "      filter: drop-shadow(0px 1px 2px rgba(0, 0, 0, 0.3));\n",
              "      fill: #FFFFFF;\n",
              "    }\n",
              "  </style>\n",
              "\n",
              "      <script>\n",
              "        const buttonEl =\n",
              "          document.querySelector('#df-bfb42f77-0db0-4f6b-a838-f9aeb24de70d button.colab-df-convert');\n",
              "        buttonEl.style.display =\n",
              "          google.colab.kernel.accessAllowed ? 'block' : 'none';\n",
              "\n",
              "        async function convertToInteractive(key) {\n",
              "          const element = document.querySelector('#df-bfb42f77-0db0-4f6b-a838-f9aeb24de70d');\n",
              "          const dataTable =\n",
              "            await google.colab.kernel.invokeFunction('convertToInteractive',\n",
              "                                                     [key], {});\n",
              "          if (!dataTable) return;\n",
              "\n",
              "          const docLinkHtml = 'Like what you see? Visit the ' +\n",
              "            '<a target=\"_blank\" href=https://colab.research.google.com/notebooks/data_table.ipynb>data table notebook</a>'\n",
              "            + ' to learn more about interactive tables.';\n",
              "          element.innerHTML = '';\n",
              "          dataTable['output_type'] = 'display_data';\n",
              "          await google.colab.output.renderOutput(dataTable, element);\n",
              "          const docLink = document.createElement('div');\n",
              "          docLink.innerHTML = docLinkHtml;\n",
              "          element.appendChild(docLink);\n",
              "        }\n",
              "      </script>\n",
              "    </div>\n",
              "  </div>\n",
              "  "
            ]
          },
          "metadata": {},
          "execution_count": 41
        }
      ]
    },
    {
      "cell_type": "markdown",
      "source": [
        "Oto kilka zadań związanych z grupowaniem, filtrowaniem i operacjami agregującymi na zbiorze danych \"Titanic\":\n",
        "\n",
        "1. Znajdź średni wiek pasażerów na Titaniku.\n",
        "2. Oblicz najwyższą cenę biletu na Titanicu.\n",
        "3. Zgrupuj pasażerów według klasy biletu (Pclass) i oblicz średnią cenę biletu dla każdej klasy.\n",
        "4. Znajdź najmłodszego i najstarszego pasażera na Titaniku.\n",
        "5. Wybierz pasażerów, którzy przetrwali katastrofę (Survived = 1) i mieli wiek poniżej 18 lat.\n",
        "6. Oblicz sumę opłat za bilety dla pasażerów z każdego portu (Embarked).\n",
        "7. Dodaj nową kolumnę o nazwie \"FamilySize\", która będzie sumą kolumn \"SibSp\" i \"Parch\" (liczba rodzeństwa/małżonków oraz liczba rodziców/dzieci).\n",
        "8. Zgrupuj pasażerów według płci (Sex) i oblicz medianę wieku dla każdej płci.\n",
        "9. Wybierz pasażerów, którzy mieli najwyższą opłatę za bilet spośród tych, którzy przeżyli (Survived = 1).\n",
        "\n",
        "W celu rozwiązania tych zadań można użyć różnych funkcji i metod dostępnych w bibliotece pandas, takich jak mean(), max(), min(), groupby(), filter(), sum(), oraz dodawanie nowych kolumn poprzez operator [] lub funkcję query()."
      ],
      "metadata": {
        "id": "EOUBdSNFd9tu"
      }
    },
    {
      "cell_type": "markdown",
      "source": [
        "1. Znajdź średni wiek pasażerów na Titaniku."
      ],
      "metadata": {
        "id": "pniwvDW6e-L_"
      }
    },
    {
      "cell_type": "code",
      "source": [],
      "metadata": {
        "id": "c0IWEfVdmZ73"
      },
      "execution_count": null,
      "outputs": []
    },
    {
      "cell_type": "markdown",
      "source": [
        "2. Oblicz najwyższą cenę biletu na Titanicu."
      ],
      "metadata": {
        "id": "Ltb4Hupae-ew"
      }
    },
    {
      "cell_type": "code",
      "source": [],
      "metadata": {
        "id": "UsB-MTQTmaYN"
      },
      "execution_count": null,
      "outputs": []
    },
    {
      "cell_type": "markdown",
      "source": [
        "3. Zgrupuj pasażerów według klasy biletu (Pclass) i oblicz średnią cenę biletu dla każdej klasy."
      ],
      "metadata": {
        "id": "iqO0AguUe-sl"
      }
    },
    {
      "cell_type": "code",
      "source": [],
      "metadata": {
        "id": "30j8rr90mbUp"
      },
      "execution_count": null,
      "outputs": []
    },
    {
      "cell_type": "markdown",
      "source": [
        "4. Znajdź najmłodszego i najstarszego pasażera na Titaniku."
      ],
      "metadata": {
        "id": "-eXuHfPKe-6A"
      }
    },
    {
      "cell_type": "code",
      "source": [],
      "metadata": {
        "id": "-59db4DgmbxT"
      },
      "execution_count": null,
      "outputs": []
    },
    {
      "cell_type": "markdown",
      "source": [
        "5. Wybierz pasażerów, którzy przetrwali katastrofę (Survived = 1) i mieli wiek poniżej 18 lat."
      ],
      "metadata": {
        "id": "N36Kba0oe_Je"
      }
    },
    {
      "cell_type": "code",
      "source": [],
      "metadata": {
        "id": "KKaL42x6mcVw"
      },
      "execution_count": null,
      "outputs": []
    },
    {
      "cell_type": "markdown",
      "source": [
        "6. Oblicz sumę opłat za bilety dla pasażerów z każdego portu (Embarked)."
      ],
      "metadata": {
        "id": "88Nu0TBKfbfy"
      }
    },
    {
      "cell_type": "code",
      "source": [],
      "metadata": {
        "id": "FdAbsfSLmc6N"
      },
      "execution_count": null,
      "outputs": []
    },
    {
      "cell_type": "markdown",
      "source": [
        "7. Dodaj nową kolumnę o nazwie \"FamilySize\", która będzie sumą kolumn \"SibSp\" i \"Parch\"."
      ],
      "metadata": {
        "id": "9fDTV470e_iO"
      }
    },
    {
      "cell_type": "code",
      "source": [],
      "metadata": {
        "id": "yS0imw9SmdZT"
      },
      "execution_count": null,
      "outputs": []
    },
    {
      "cell_type": "markdown",
      "source": [
        "8. Zgrupuj pasażerów według płci (Sex) i oblicz medianę wieku dla każdej płci."
      ],
      "metadata": {
        "id": "X37ul-xse_r5"
      }
    },
    {
      "cell_type": "code",
      "source": [],
      "metadata": {
        "id": "7jmaM6Lhmd82"
      },
      "execution_count": null,
      "outputs": []
    },
    {
      "cell_type": "markdown",
      "source": [
        "9. Wybierz pasażerów, którzy mieli najwyższą opłatę za bilet spośród tych, którzy przeżyli (Survived = 1)."
      ],
      "metadata": {
        "id": "KXJbA5wze_1A"
      }
    },
    {
      "cell_type": "code",
      "source": [],
      "metadata": {
        "id": "C3hHVqdlme14"
      },
      "execution_count": null,
      "outputs": []
    }
  ]
}
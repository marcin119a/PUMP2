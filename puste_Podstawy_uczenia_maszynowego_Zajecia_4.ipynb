{
  "nbformat": 4,
  "nbformat_minor": 0,
  "metadata": {
    "colab": {
      "provenance": [],
      "include_colab_link": true
    },
    "kernelspec": {
      "name": "python3",
      "display_name": "Python 3"
    },
    "language_info": {
      "name": "python"
    }
  },
  "cells": [
    {
      "cell_type": "markdown",
      "metadata": {
        "id": "view-in-github",
        "colab_type": "text"
      },
      "source": [
        "<a href=\"https://colab.research.google.com/github/marcin119a/PUMP2/blob/main/puste_Podstawy_uczenia_maszynowego_Zajecia_4.ipynb\" target=\"_parent\"><img src=\"https://colab.research.google.com/assets/colab-badge.svg\" alt=\"Open In Colab\"/></a>"
      ]
    },
    {
      "cell_type": "markdown",
      "source": [
        "### Zadanie Broadcasting\n",
        "Oto rozwinięcie zadania w oparciu o podane punkty:\n",
        "\n",
        "1. Użyj `np.arange` do wygenerowania 10 punktów z zakresu od 0 do 9:\n",
        "2. Policz dla tych punktów średnią:\n",
        "3. Podnieś wszystkie liczby do kwadratu i policz ich sumę:\n",
        "4. Zmień wymiar tej tablicy za pomocą reshape na (2,5).\n",
        "5. Zmień wymiar tej tablicy za pomocą reshape na (3,3). Dlaczego to nie działa?\n",
        "6. Policz sumę liczb po axis=0 i axis=1, oraz wszystkich elementów:\n",
        "7. Dodaj do każdego elementu tablicy z punktu 1 liczbę 10:\n"
      ],
      "metadata": {
        "id": "aQ_8-ug9YBx1"
      }
    },
    {
      "cell_type": "markdown",
      "source": [
        "Użyj np.arange do wygenerowania 10 punktów z zakresu od 0 do 9"
      ],
      "metadata": {
        "id": "2Owj6A33raW0"
      }
    },
    {
      "cell_type": "code",
      "source": [],
      "metadata": {
        "id": "8BtCLILvB_2X"
      },
      "execution_count": null,
      "outputs": []
    },
    {
      "cell_type": "markdown",
      "source": [
        "Policz dla tych punktów średnią:"
      ],
      "metadata": {
        "id": "Az4tacEFrbUE"
      }
    },
    {
      "cell_type": "code",
      "source": [],
      "metadata": {
        "id": "5cJdUZUUCAO1"
      },
      "execution_count": null,
      "outputs": []
    },
    {
      "cell_type": "markdown",
      "source": [
        "Podnieś wszystkie liczby do kwadratu i policz ich sumę:"
      ],
      "metadata": {
        "id": "POh0VWyGrcA1"
      }
    },
    {
      "cell_type": "code",
      "source": [],
      "metadata": {
        "id": "RVB3C135CA3z"
      },
      "execution_count": null,
      "outputs": []
    },
    {
      "cell_type": "markdown",
      "source": [
        "Zmień wymiar tej tablicy za pomocą reshape na (2,5):"
      ],
      "metadata": {
        "id": "XEvI2ZGercoP"
      }
    },
    {
      "cell_type": "code",
      "source": [],
      "metadata": {
        "id": "p655p76YCBmy"
      },
      "execution_count": null,
      "outputs": []
    },
    {
      "cell_type": "markdown",
      "source": [
        "Zmień wymiar tej tablicy za pomocą reshape na (3,3):"
      ],
      "metadata": {
        "id": "WXJF49JPtml4"
      }
    },
    {
      "cell_type": "code",
      "source": [],
      "metadata": {
        "id": "XGLDgzbuCCKG"
      },
      "execution_count": null,
      "outputs": []
    },
    {
      "cell_type": "markdown",
      "source": [
        "Zmiana wymiaru na (3, 3) spowoduje wystąpienie błędu, ponieważ liczba elementów w tablicy wynosi 10, a aby zmienić jej wymiar na (3, 3), potrzebujemy 9 elementów."
      ],
      "metadata": {
        "id": "gRj8Yw7TryTp"
      }
    },
    {
      "cell_type": "code",
      "source": [],
      "metadata": {
        "id": "gZuSLcbpCDEx"
      },
      "execution_count": null,
      "outputs": []
    },
    {
      "cell_type": "code",
      "source": [],
      "metadata": {
        "id": "SqOr5elqrBaI"
      },
      "execution_count": null,
      "outputs": []
    },
    {
      "cell_type": "markdown",
      "source": [
        "\n",
        "\n",
        "1. Mnożenie macierzy przez skalarną wartość.\n",
        "Stwórz dwie macierze numpy: A o wymiarach (3, 3) zawierającą liczby od 1 do 9 i x będącą skalarną wartością równą 2. Przemnóż macierz A przez x.\n",
        "\n",
        "2. Dodawanie dwóch macierzy różnych wymiarów.\n",
        "Stwórz dwie macierze numpy: A o wymiarach (2, 3) zawierającą liczby od 1 do 6 i B o wymiarach (2, 1) zawierającą liczby [10, 20]. Dodaj macierz B do macierzy A.\n",
        "\n",
        "3. Obliczanie różnicy między dwiema macierzami o różnych kształtach.\n",
        "Stwórz dwie macierze numpy: A o wymiarach (3, 4) zawierającą liczby od 1 do 12 i B o wymiarach (1, 4) zawierającą liczby [1, 2, 3, 4]. Odejmij macierz B od macierzy A.\n",
        "\n",
        "4. Mnożenie punktowe dwóch macierzy z broadcastingiem.\n",
        "Stwórz dwie macierze numpy: A o wymiarach (3, 2) zawierającą liczby od 1 do 6 i B o wymiarach (2,) zawierającą liczby [2, 3]. Pomnóż macierz A przez macierz B używając $*$.\n",
        "\n",
        "5. Obliczanie średniej dla każdego wiersza macierzy.\n",
        "Stwórz macierz numpy A o wymiarach (4, 5) zawierającą losowe liczby. Oblicz średnią dla każdego wiersza macierzy A.\n",
        "\n",
        "6. Normalizacja macierzy kolumnami.\n",
        "Stwórz macierz numpy A o wymiarach (3, 4) zawierającą losowe liczby. Znormalizuj macierz A kolumnami, dzieląc każdą kolumnę przez jej średnią wartość.\n",
        "\n",
        "7. Obliczanie iloczynu dwóch macierzy z broadcastingiem.\n",
        "Stwórz dwie macierze numpy: A o wymiarach (3, 2) zawierającą liczby od 1 do 6 i B o wymiarach (2, 3) zawierającą liczby od 1 do 6. Oblicz iloczyn macierzy A i B używając ```np.dot()```.\n",
        "\n",
        "Rozwiazania:"
      ],
      "metadata": {
        "id": "6zJbIoa7t_1G"
      }
    },
    {
      "cell_type": "markdown",
      "source": [
        "1. Mnożenie macierzy przez skalarną wartość"
      ],
      "metadata": {
        "id": "eNuxTloOuWY7"
      }
    },
    {
      "cell_type": "code",
      "source": [],
      "metadata": {
        "id": "6JoIhsj-CFpB"
      },
      "execution_count": null,
      "outputs": []
    },
    {
      "cell_type": "markdown",
      "source": [
        "2. Dodawanie dwóch macierzy różnych wymiarów. Stwórz dwie macierze numpy: A o wymiarach (2, 3) zawierającą liczby od 1 do 6 i B o wymiarach (2, 1) zawierającą liczby [10, 20]. Dodaj macierz B do macierzy A."
      ],
      "metadata": {
        "id": "Equ9sTw5uUsv"
      }
    },
    {
      "cell_type": "code",
      "source": [],
      "metadata": {
        "id": "o4iD-RLmCHs5"
      },
      "execution_count": null,
      "outputs": []
    },
    {
      "cell_type": "markdown",
      "source": [
        "3. Obliczanie różnicy między dwiema macierzami o różnych kształtach. Stwórz dwie macierze numpy: A o wymiarach (3, 4) zawierającą liczby od 1 do 12 i B o wymiarach (1, 4) zawierającą liczby [1, 2, 3, 4]. Odejmij macierz B od macierzy A."
      ],
      "metadata": {
        "id": "8yMicCMduU36"
      }
    },
    {
      "cell_type": "code",
      "source": [],
      "metadata": {
        "id": "KQv4-hEdCJvi"
      },
      "execution_count": null,
      "outputs": []
    },
    {
      "cell_type": "markdown",
      "source": [
        "4. Mnożenie dwóch macierzy z broadcastingiem:"
      ],
      "metadata": {
        "id": "y_okEtJE-xkS"
      }
    },
    {
      "cell_type": "code",
      "source": [],
      "metadata": {
        "id": "dpbWWfj6CNOl"
      },
      "execution_count": null,
      "outputs": []
    },
    {
      "cell_type": "markdown",
      "source": [
        "5. Obliczanie średniej dla każdego wiersza macierzy:"
      ],
      "metadata": {
        "id": "SaPlkBpyuVE7"
      }
    },
    {
      "cell_type": "code",
      "source": [],
      "metadata": {
        "id": "cO8u7kScCOKE"
      },
      "execution_count": null,
      "outputs": []
    },
    {
      "cell_type": "markdown",
      "source": [
        "6. Normalizacja macierzy kolumnami:"
      ],
      "metadata": {
        "id": "aUJ7bx-e-8pI"
      }
    },
    {
      "cell_type": "code",
      "source": [],
      "metadata": {
        "id": "ML0mmACCCPRZ"
      },
      "execution_count": null,
      "outputs": []
    },
    {
      "cell_type": "markdown",
      "source": [
        "7. Obliczanie iloczynu dwóch macierzy z broadcastingiem:"
      ],
      "metadata": {
        "id": "8-6Qv2rj_G7x"
      }
    },
    {
      "cell_type": "code",
      "source": [],
      "metadata": {
        "id": "QjhbX6YSCQSC"
      },
      "execution_count": null,
      "outputs": []
    },
    {
      "cell_type": "markdown",
      "source": [
        "### Mnist dataset\n"
      ],
      "metadata": {
        "id": "iy-p1LdkEeHw"
      }
    },
    {
      "cell_type": "markdown",
      "source": [
        "MNIST (Modified National Institute of Standards and Technology database) to zbiór danych zawierający 70 000 ręcznie pisanych cyfr arabskich (0-9), które zostały przepisane i zmodyfikowane na potrzeby uczenia maszynowego. Zbiór danych MNIST jest jednym z najczęściej stosowanych benchmarków w dziedzinie uczenia maszynowego, a dokładniej w zadaniu klasyfikacji obrazów. Zbiór danych MNIST składa się z dwóch części: zestawu treningowego zawierającego 60 000 obrazów i zestawu testowego zawierającego 10 000 obrazów.\n",
        "\n",
        "Zbiór danych MNIST był pierwotnie opracowany przez NIST (National Institute of Standards and Technology) w latach 80-tych, jako zbiór danych służący do testowania rozpoznawania odręcznego pisma. W 1998 roku Yann LeCun i jego zespół z Uniwersytetu w Nowym Jorku przetworzyli oryginalne dane i dostosowali je do formatu, który umożliwiał ich użycie w uczeniu maszynowym.\n",
        "\n",
        "Zbiór danych MNIST jest popularny ze względu na jego prostotę i jednoznaczność. Obrazy są czarno-białe, a ich rozmiar wynosi 28x28 pikseli, co umożliwia łatwe i szybkie przetwarzanie przez modele uczenia maszynowego. Ponadto, zbiór danych MNIST jest dobrze udokumentowany i udostępniony publicznie, co umożliwia porównanie skuteczności różnych modeli uczenia maszynowego."
      ],
      "metadata": {
        "id": "JRZ5h1cDgJyt"
      }
    },
    {
      "cell_type": "markdown",
      "source": [
        "### Zadania MNIST:\n",
        "\n",
        "0. Wczytaj zbiór MNIST.\n",
        "1. Sprawdź ile pikseli dla ręcznie napisanej cyfry 4 ma wartość większą niż 120.\n",
        "2. Odwróć kolory dla ręcznie napisanej cyfry 4.\n",
        "3. Policz średnią i odchylenie standardowe dla wszystkich pikseli dla ręcznie napisanej cyfry 4.\n",
        "4. Narysuj prostokąt, który obejmuje ręcznie napisaną cyfrę 4.\n",
        "5. Jak wykonać wycinek (crop) tylko z ręcznie napisanej cyfry 4? Podpowiedź: użyj indeksowania podobnie jak w zadaniu 5.\n",
        "7. Dodaj do siebie 2 ręcznie napisane cyfry \"+\" i narysuj za pomocą ```plt.imshow()```. Uważaj na nadpisanie Twojej tablicy tensorów. Jeśli tak się stanie, wczytaj ją ponownie.\n",
        "8. Zastosuj funkcję sinus do obrazka za pomocą ```np.sin()```. Dlaczego obrazek wygląda teraz inaczej?\n",
        "9. Zastosuj funkcję sigmoid do obrazka, jak opisano na stronie: https://en.wikipedia.org/wiki/Sigmoid_function. Dlaczego kolory teraz są bardziej jednorodne?\n",
        "\n",
        "10. Dane treningowe (x_train) i dane testowe (x_test) zawierają obrazy z zestawu Fashion MNIST. Twoim zadaniem jest podzielić każdy obraz na dwie części: lewą część składającą się z pierwszych 14 kolumn pikseli oraz prawą część składającą się z pozostałych kolumn pikseli. Następnie należy przypisać te podzielone części do nowych zmiennych: x_train_left, x_test_left (lewą część) oraz x_train_right, x_test_right (prawą część).\n",
        "\n",
        "11. Oblicz podobieństwo kosinusowe dla dowolnych 2 cyfr i oceń jak są one podobne, czy cosinus jest bliski -1 czy może 1?"
      ],
      "metadata": {
        "id": "F69hMbFUAj1r"
      }
    },
    {
      "cell_type": "markdown",
      "source": [
        "### Pomocne kody"
      ],
      "metadata": {
        "id": "_trcH5dtCrek"
      }
    },
    {
      "cell_type": "markdown",
      "source": [
        "----------------------------------------------"
      ],
      "metadata": {
        "id": "bLuKSlmPCxnD"
      }
    },
    {
      "cell_type": "code",
      "source": [
        "import numpy as np\n",
        "import matplotlib.pyplot as plt\n",
        "from tensorflow.keras.datasets import mnist\n",
        "\n",
        "def cosine_similarity(vector1, vector2):\n",
        "    dot_product = np.dot(vector1, vector2)\n",
        "    norm_vector1 = np.linalg.norm(vector1)\n",
        "    norm_vector2 = np.linalg.norm(vector2)\n",
        "    similarity = dot_product / (norm_vector1 * norm_vector2)\n",
        "    return similarity\n",
        "\n",
        "(train_images, train_labels), (test_images, test_labels) = mnist.load_data()\n"
      ],
      "metadata": {
        "id": "Oyj8R8ThkJTP",
        "colab": {
          "base_uri": "https://localhost:8080/"
        },
        "outputId": "5b182674-cc77-45b7-95bc-c78e31f57fb6"
      },
      "execution_count": 2,
      "outputs": [
        {
          "output_type": "stream",
          "name": "stdout",
          "text": [
            "Downloading data from https://storage.googleapis.com/tensorflow/tf-keras-datasets/mnist.npz\n",
            "11490434/11490434 [==============================] - 0s 0us/step\n"
          ]
        }
      ]
    },
    {
      "cell_type": "markdown",
      "source": [
        "Wyrównywanie wpływu skali: Normalizacja danych pomaga wyrównać wpływ skali na podobieństwo kosinusowe. Bez normalizacji, piksele o większych wartościach mogłyby dominować wektor wynikowy i wpływać na wynik podobieństwa kosinusowego bardziej niż piksele o mniejszych wartościach. Dzielenie przez 255 normalizuje wartości pikseli do zakresu od 0 do 1, eliminując różnice w skali i umożliwiając równomierne uwzględnienie każdego piksela w obliczeniach podobieństwa kosinusowego."
      ],
      "metadata": {
        "id": "A3BNVTCQG5fw"
      }
    },
    {
      "cell_type": "code",
      "source": [
        "\"\"\"\"\n",
        "Normalizacja danych, w tym przypadku podzielenie wartości pikseli przez 255,\n",
        "może pomóc wyrównać wpływ skali i umożliwić bardziej adekwatne obliczenie podobieństwa kosinusowego pomiędzy dwoma obrazami.\n",
        "\"\"\"\n",
        "\n",
        "digit_8 = train_images[train_labels == 8][0].reshape(784) / 255\n",
        "digit_1 = train_images[train_labels == 1][0].reshape(784) / 255\n",
        "\n",
        "cosine_similarity(digit_8, digit_1)"
      ],
      "metadata": {
        "colab": {
          "base_uri": "https://localhost:8080/"
        },
        "id": "0ZJrdKTKkSq7",
        "outputId": "12263a3e-3a73-4e53-d5af-b922cfbb0d3d"
      },
      "execution_count": 21,
      "outputs": [
        {
          "output_type": "execute_result",
          "data": {
            "text/plain": [
              "0.6298793601995664"
            ]
          },
          "metadata": {},
          "execution_count": 21
        }
      ]
    },
    {
      "cell_type": "code",
      "source": [
        "np.dot(digit_8, digit_8)"
      ],
      "metadata": {
        "colab": {
          "base_uri": "https://localhost:8080/"
        },
        "id": "xsDPhzsFFLBH",
        "outputId": "928a39dd-e366-4c57-f1bf-48ae17167682"
      },
      "execution_count": 19,
      "outputs": [
        {
          "output_type": "execute_result",
          "data": {
            "text/plain": [
              "88.60672049211841"
            ]
          },
          "metadata": {},
          "execution_count": 19
        }
      ]
    },
    {
      "cell_type": "code",
      "source": [
        "np.linalg.norm(digit_8)"
      ],
      "metadata": {
        "colab": {
          "base_uri": "https://localhost:8080/"
        },
        "id": "kb6_bJ1-FE--",
        "outputId": "96a10370-d12d-4271-91f6-f6ed5ea602af"
      },
      "execution_count": 20,
      "outputs": [
        {
          "output_type": "execute_result",
          "data": {
            "text/plain": [
              "9.413114282325399"
            ]
          },
          "metadata": {},
          "execution_count": 20
        }
      ]
    },
    {
      "cell_type": "code",
      "source": [
        "\n",
        "digit_8 = train_images[train_labels == 8][0]\n",
        "digit_1 = train_images[train_labels == 1][0]\n",
        "\n",
        "\n",
        "plt.figure(figsize = (20,2))\n",
        "plt.imshow(digit_8, cmap='gray')"
      ],
      "metadata": {
        "colab": {
          "base_uri": "https://localhost:8080/",
          "height": 234
        },
        "id": "uEB10yLYKNwj",
        "outputId": "dda91c01-aadc-4926-f452-4f7f54a64eb1"
      },
      "execution_count": 8,
      "outputs": [
        {
          "output_type": "execute_result",
          "data": {
            "text/plain": [
              "<matplotlib.image.AxesImage at 0x7fb7b294ee60>"
            ]
          },
          "metadata": {},
          "execution_count": 8
        },
        {
          "output_type": "display_data",
          "data": {
            "text/plain": [
              "<Figure size 2000x200 with 1 Axes>"
            ],
            "image/png": "[encoded data removed]"
          },
          "metadata": {}
        }
      ]
    },
    {
      "cell_type": "markdown",
      "source": [
        "----------------------------------------------"
      ],
      "metadata": {
        "id": "rQcsPCO_Cu5e"
      }
    },
    {
      "cell_type": "code",
      "source": [],
      "metadata": {
        "id": "R_KFLbU-CuFF"
      },
      "execution_count": null,
      "outputs": []
    },
    {
      "cell_type": "markdown",
      "source": [
        "1: Liczenie pikseli o wartości większej niż 120 dla ręcznie napisanej 4"
      ],
      "metadata": {
        "id": "HHOjr6luLiAR"
      }
    },
    {
      "cell_type": "code",
      "source": [],
      "metadata": {
        "id": "WxtPdLCcC3c3"
      },
      "execution_count": null,
      "outputs": []
    },
    {
      "cell_type": "markdown",
      "source": [
        "2: Odwrócenie kolorów dla ręcznie napisanej cyfry 4"
      ],
      "metadata": {
        "id": "T4nad2DTUQy1"
      }
    },
    {
      "cell_type": "code",
      "source": [],
      "metadata": {
        "id": "gMAFG6BmRLMx"
      },
      "execution_count": null,
      "outputs": []
    },
    {
      "cell_type": "markdown",
      "source": [
        "3: Obliczanie średniej i odchylenia standardowego dla ręcznie napisanej 4\n"
      ],
      "metadata": {
        "id": "k2I5um2vUKtH"
      }
    },
    {
      "cell_type": "code",
      "source": [],
      "metadata": {
        "id": "kdNTD23IC5ET"
      },
      "execution_count": null,
      "outputs": []
    },
    {
      "cell_type": "markdown",
      "source": [
        "4: Odbicie ręcznie napisanej cyfry 4 względem osi X"
      ],
      "metadata": {
        "id": "w5eLjc6_UCo3"
      }
    },
    {
      "cell_type": "code",
      "source": [],
      "metadata": {
        "id": "UX6_8wvWC6Bj"
      },
      "execution_count": null,
      "outputs": []
    },
    {
      "cell_type": "markdown",
      "source": [
        "5: Rysowanie kwadratu obejmującego ręcznie napisaną 4"
      ],
      "metadata": {
        "id": "Md2ypmdCUbah"
      }
    },
    {
      "cell_type": "code",
      "source": [],
      "metadata": {
        "id": "4rNhiLkCC9b-"
      },
      "execution_count": null,
      "outputs": []
    },
    {
      "cell_type": "markdown",
      "source": [
        "6. Wytnij tylko ręcznie napisaną 4"
      ],
      "metadata": {
        "id": "Q5rqoKDDMYpz"
      }
    },
    {
      "cell_type": "code",
      "source": [],
      "metadata": {
        "id": "A8TfXXMSC-yq"
      },
      "execution_count": null,
      "outputs": []
    },
    {
      "cell_type": "markdown",
      "source": [
        "7: Dodawanie dwóch ręcznie napisanych cyfr \"+\""
      ],
      "metadata": {
        "id": "mwRe86U4MOSj"
      }
    },
    {
      "cell_type": "code",
      "source": [],
      "metadata": {
        "id": "mk5_leCYC_9g"
      },
      "execution_count": null,
      "outputs": []
    },
    {
      "cell_type": "markdown",
      "source": [
        "8: Zastosowanie funkcji sinus do obrazka"
      ],
      "metadata": {
        "id": "1ySwnYv0Lmpo"
      }
    },
    {
      "cell_type": "code",
      "source": [],
      "metadata": {
        "id": "x6bupAVCDDFY"
      },
      "execution_count": null,
      "outputs": []
    },
    {
      "cell_type": "markdown",
      "source": [
        "9: Zastosowanie funkcji sigmoid do obrazka"
      ],
      "metadata": {
        "id": "D0YPql1EVDRo"
      }
    }
  ]
}